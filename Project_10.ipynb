{
 "cells": [
  {
   "cell_type": "code",
   "execution_count": 1,
   "metadata": {},
   "outputs": [],
   "source": [
    "import pandas as pd\n",
    "from sklearn.metrics import mean_absolute_error\n",
    "import matplotlib.pyplot as plt\n",
    "import seaborn as sns\n",
    "import numpy as np\n",
    "from sklearn.model_selection import train_test_split\n",
    "from sklearn.preprocessing import StandardScaler\n",
    "import matplotlib.pyplot as plt\n",
    "from sklearn.linear_model import LinearRegression\n",
    "from sklearn.ensemble import RandomForestRegressor\n",
    "from sklearn.model_selection import cross_val_score, train_test_split\n",
    "from sklearn.metrics import make_scorer\n",
    "from sklearn.dummy import DummyRegressor\n",
    "from sklearn.tree import DecisionTreeRegressor\n",
    "from sklearn.model_selection import cross_val_score\n",
    "from sklearn.model_selection import GridSearchCV\n",
    "from sklearn.multioutput import MultiOutputRegressor\n",
    "from sklearn.dummy import DummyRegressor"
   ]
  },
  {
   "cell_type": "markdown",
   "metadata": {},
   "source": [
    "# Integrated Project 2"
   ]
  },
  {
   "cell_type": "markdown",
   "metadata": {},
   "source": [
    "We have data regarding the extraction of gold from ore stored in 3 datasets. As the gold goes through extraction steps we will prepare the data for analysis, analyze the datasets, and build a ML model to help determine sMAPE for the data. "
   ]
  },
  {
   "cell_type": "markdown",
   "metadata": {},
   "source": [
    "## Prepare the Data"
   ]
  },
  {
   "cell_type": "code",
   "execution_count": 2,
   "metadata": {},
   "outputs": [],
   "source": [
    "data_train = pd.read_csv('/datasets/gold_recovery_train.csv')\n",
    "data_test = pd.read_csv('/datasets/gold_recovery_test.csv')\n",
    "data_full = pd.read_csv('/datasets/gold_recovery_full.csv')"
   ]
  },
  {
   "cell_type": "markdown",
   "metadata": {},
   "source": [
    "### EDA"
   ]
  },
  {
   "cell_type": "markdown",
   "metadata": {},
   "source": [
    "#### Train"
   ]
  },
  {
   "cell_type": "code",
   "execution_count": 3,
   "metadata": {},
   "outputs": [
    {
     "data": {
      "text/html": [
       "<div>\n",
       "<style scoped>\n",
       "    .dataframe tbody tr th:only-of-type {\n",
       "        vertical-align: middle;\n",
       "    }\n",
       "\n",
       "    .dataframe tbody tr th {\n",
       "        vertical-align: top;\n",
       "    }\n",
       "\n",
       "    .dataframe thead th {\n",
       "        text-align: right;\n",
       "    }\n",
       "</style>\n",
       "<table border=\"1\" class=\"dataframe\">\n",
       "  <thead>\n",
       "    <tr style=\"text-align: right;\">\n",
       "      <th></th>\n",
       "      <th>date</th>\n",
       "      <th>final.output.concentrate_ag</th>\n",
       "      <th>final.output.concentrate_pb</th>\n",
       "      <th>final.output.concentrate_sol</th>\n",
       "      <th>final.output.concentrate_au</th>\n",
       "      <th>final.output.recovery</th>\n",
       "      <th>final.output.tail_ag</th>\n",
       "      <th>final.output.tail_pb</th>\n",
       "      <th>final.output.tail_sol</th>\n",
       "      <th>final.output.tail_au</th>\n",
       "      <th>...</th>\n",
       "      <th>secondary_cleaner.state.floatbank4_a_air</th>\n",
       "      <th>secondary_cleaner.state.floatbank4_a_level</th>\n",
       "      <th>secondary_cleaner.state.floatbank4_b_air</th>\n",
       "      <th>secondary_cleaner.state.floatbank4_b_level</th>\n",
       "      <th>secondary_cleaner.state.floatbank5_a_air</th>\n",
       "      <th>secondary_cleaner.state.floatbank5_a_level</th>\n",
       "      <th>secondary_cleaner.state.floatbank5_b_air</th>\n",
       "      <th>secondary_cleaner.state.floatbank5_b_level</th>\n",
       "      <th>secondary_cleaner.state.floatbank6_a_air</th>\n",
       "      <th>secondary_cleaner.state.floatbank6_a_level</th>\n",
       "    </tr>\n",
       "  </thead>\n",
       "  <tbody>\n",
       "    <tr>\n",
       "      <th>0</th>\n",
       "      <td>2016-01-15 00:00:00</td>\n",
       "      <td>6.055403</td>\n",
       "      <td>9.889648</td>\n",
       "      <td>5.507324</td>\n",
       "      <td>42.192020</td>\n",
       "      <td>70.541216</td>\n",
       "      <td>10.411962</td>\n",
       "      <td>0.895447</td>\n",
       "      <td>16.904297</td>\n",
       "      <td>2.143149</td>\n",
       "      <td>...</td>\n",
       "      <td>14.016835</td>\n",
       "      <td>-502.488007</td>\n",
       "      <td>12.099931</td>\n",
       "      <td>-504.715942</td>\n",
       "      <td>9.925633</td>\n",
       "      <td>-498.310211</td>\n",
       "      <td>8.079666</td>\n",
       "      <td>-500.470978</td>\n",
       "      <td>14.151341</td>\n",
       "      <td>-605.841980</td>\n",
       "    </tr>\n",
       "    <tr>\n",
       "      <th>1</th>\n",
       "      <td>2016-01-15 01:00:00</td>\n",
       "      <td>6.029369</td>\n",
       "      <td>9.968944</td>\n",
       "      <td>5.257781</td>\n",
       "      <td>42.701629</td>\n",
       "      <td>69.266198</td>\n",
       "      <td>10.462676</td>\n",
       "      <td>0.927452</td>\n",
       "      <td>16.634514</td>\n",
       "      <td>2.224930</td>\n",
       "      <td>...</td>\n",
       "      <td>13.992281</td>\n",
       "      <td>-505.503262</td>\n",
       "      <td>11.950531</td>\n",
       "      <td>-501.331529</td>\n",
       "      <td>10.039245</td>\n",
       "      <td>-500.169983</td>\n",
       "      <td>7.984757</td>\n",
       "      <td>-500.582168</td>\n",
       "      <td>13.998353</td>\n",
       "      <td>-599.787184</td>\n",
       "    </tr>\n",
       "    <tr>\n",
       "      <th>2</th>\n",
       "      <td>2016-01-15 02:00:00</td>\n",
       "      <td>6.055926</td>\n",
       "      <td>10.213995</td>\n",
       "      <td>5.383759</td>\n",
       "      <td>42.657501</td>\n",
       "      <td>68.116445</td>\n",
       "      <td>10.507046</td>\n",
       "      <td>0.953716</td>\n",
       "      <td>16.208849</td>\n",
       "      <td>2.257889</td>\n",
       "      <td>...</td>\n",
       "      <td>14.015015</td>\n",
       "      <td>-502.520901</td>\n",
       "      <td>11.912783</td>\n",
       "      <td>-501.133383</td>\n",
       "      <td>10.070913</td>\n",
       "      <td>-500.129135</td>\n",
       "      <td>8.013877</td>\n",
       "      <td>-500.517572</td>\n",
       "      <td>14.028663</td>\n",
       "      <td>-601.427363</td>\n",
       "    </tr>\n",
       "    <tr>\n",
       "      <th>3</th>\n",
       "      <td>2016-01-15 03:00:00</td>\n",
       "      <td>6.047977</td>\n",
       "      <td>9.977019</td>\n",
       "      <td>4.858634</td>\n",
       "      <td>42.689819</td>\n",
       "      <td>68.347543</td>\n",
       "      <td>10.422762</td>\n",
       "      <td>0.883763</td>\n",
       "      <td>16.532835</td>\n",
       "      <td>2.146849</td>\n",
       "      <td>...</td>\n",
       "      <td>14.036510</td>\n",
       "      <td>-500.857308</td>\n",
       "      <td>11.999550</td>\n",
       "      <td>-501.193686</td>\n",
       "      <td>9.970366</td>\n",
       "      <td>-499.201640</td>\n",
       "      <td>7.977324</td>\n",
       "      <td>-500.255908</td>\n",
       "      <td>14.005551</td>\n",
       "      <td>-599.996129</td>\n",
       "    </tr>\n",
       "    <tr>\n",
       "      <th>4</th>\n",
       "      <td>2016-01-15 04:00:00</td>\n",
       "      <td>6.148599</td>\n",
       "      <td>10.142511</td>\n",
       "      <td>4.939416</td>\n",
       "      <td>42.774141</td>\n",
       "      <td>66.927016</td>\n",
       "      <td>10.360302</td>\n",
       "      <td>0.792826</td>\n",
       "      <td>16.525686</td>\n",
       "      <td>2.055292</td>\n",
       "      <td>...</td>\n",
       "      <td>14.027298</td>\n",
       "      <td>-499.838632</td>\n",
       "      <td>11.953070</td>\n",
       "      <td>-501.053894</td>\n",
       "      <td>9.925709</td>\n",
       "      <td>-501.686727</td>\n",
       "      <td>7.894242</td>\n",
       "      <td>-500.356035</td>\n",
       "      <td>13.996647</td>\n",
       "      <td>-601.496691</td>\n",
       "    </tr>\n",
       "  </tbody>\n",
       "</table>\n",
       "<p>5 rows × 87 columns</p>\n",
       "</div>"
      ],
      "text/plain": [
       "                  date  final.output.concentrate_ag  \\\n",
       "0  2016-01-15 00:00:00                     6.055403   \n",
       "1  2016-01-15 01:00:00                     6.029369   \n",
       "2  2016-01-15 02:00:00                     6.055926   \n",
       "3  2016-01-15 03:00:00                     6.047977   \n",
       "4  2016-01-15 04:00:00                     6.148599   \n",
       "\n",
       "   final.output.concentrate_pb  final.output.concentrate_sol  \\\n",
       "0                     9.889648                      5.507324   \n",
       "1                     9.968944                      5.257781   \n",
       "2                    10.213995                      5.383759   \n",
       "3                     9.977019                      4.858634   \n",
       "4                    10.142511                      4.939416   \n",
       "\n",
       "   final.output.concentrate_au  final.output.recovery  final.output.tail_ag  \\\n",
       "0                    42.192020              70.541216             10.411962   \n",
       "1                    42.701629              69.266198             10.462676   \n",
       "2                    42.657501              68.116445             10.507046   \n",
       "3                    42.689819              68.347543             10.422762   \n",
       "4                    42.774141              66.927016             10.360302   \n",
       "\n",
       "   final.output.tail_pb  final.output.tail_sol  final.output.tail_au  ...  \\\n",
       "0              0.895447              16.904297              2.143149  ...   \n",
       "1              0.927452              16.634514              2.224930  ...   \n",
       "2              0.953716              16.208849              2.257889  ...   \n",
       "3              0.883763              16.532835              2.146849  ...   \n",
       "4              0.792826              16.525686              2.055292  ...   \n",
       "\n",
       "   secondary_cleaner.state.floatbank4_a_air  \\\n",
       "0                                 14.016835   \n",
       "1                                 13.992281   \n",
       "2                                 14.015015   \n",
       "3                                 14.036510   \n",
       "4                                 14.027298   \n",
       "\n",
       "   secondary_cleaner.state.floatbank4_a_level  \\\n",
       "0                                 -502.488007   \n",
       "1                                 -505.503262   \n",
       "2                                 -502.520901   \n",
       "3                                 -500.857308   \n",
       "4                                 -499.838632   \n",
       "\n",
       "   secondary_cleaner.state.floatbank4_b_air  \\\n",
       "0                                 12.099931   \n",
       "1                                 11.950531   \n",
       "2                                 11.912783   \n",
       "3                                 11.999550   \n",
       "4                                 11.953070   \n",
       "\n",
       "   secondary_cleaner.state.floatbank4_b_level  \\\n",
       "0                                 -504.715942   \n",
       "1                                 -501.331529   \n",
       "2                                 -501.133383   \n",
       "3                                 -501.193686   \n",
       "4                                 -501.053894   \n",
       "\n",
       "   secondary_cleaner.state.floatbank5_a_air  \\\n",
       "0                                  9.925633   \n",
       "1                                 10.039245   \n",
       "2                                 10.070913   \n",
       "3                                  9.970366   \n",
       "4                                  9.925709   \n",
       "\n",
       "   secondary_cleaner.state.floatbank5_a_level  \\\n",
       "0                                 -498.310211   \n",
       "1                                 -500.169983   \n",
       "2                                 -500.129135   \n",
       "3                                 -499.201640   \n",
       "4                                 -501.686727   \n",
       "\n",
       "   secondary_cleaner.state.floatbank5_b_air  \\\n",
       "0                                  8.079666   \n",
       "1                                  7.984757   \n",
       "2                                  8.013877   \n",
       "3                                  7.977324   \n",
       "4                                  7.894242   \n",
       "\n",
       "   secondary_cleaner.state.floatbank5_b_level  \\\n",
       "0                                 -500.470978   \n",
       "1                                 -500.582168   \n",
       "2                                 -500.517572   \n",
       "3                                 -500.255908   \n",
       "4                                 -500.356035   \n",
       "\n",
       "   secondary_cleaner.state.floatbank6_a_air  \\\n",
       "0                                 14.151341   \n",
       "1                                 13.998353   \n",
       "2                                 14.028663   \n",
       "3                                 14.005551   \n",
       "4                                 13.996647   \n",
       "\n",
       "   secondary_cleaner.state.floatbank6_a_level  \n",
       "0                                 -605.841980  \n",
       "1                                 -599.787184  \n",
       "2                                 -601.427363  \n",
       "3                                 -599.996129  \n",
       "4                                 -601.496691  \n",
       "\n",
       "[5 rows x 87 columns]"
      ]
     },
     "execution_count": 3,
     "metadata": {},
     "output_type": "execute_result"
    }
   ],
   "source": [
    "data_train.head()"
   ]
  },
  {
   "cell_type": "code",
   "execution_count": 4,
   "metadata": {},
   "outputs": [
    {
     "name": "stdout",
     "output_type": "stream",
     "text": [
      "<class 'pandas.core.frame.DataFrame'>\n",
      "RangeIndex: 16860 entries, 0 to 16859\n",
      "Data columns (total 87 columns):\n",
      " #   Column                                              Non-Null Count  Dtype  \n",
      "---  ------                                              --------------  -----  \n",
      " 0   date                                                16860 non-null  object \n",
      " 1   final.output.concentrate_ag                         16788 non-null  float64\n",
      " 2   final.output.concentrate_pb                         16788 non-null  float64\n",
      " 3   final.output.concentrate_sol                        16490 non-null  float64\n",
      " 4   final.output.concentrate_au                         16789 non-null  float64\n",
      " 5   final.output.recovery                               15339 non-null  float64\n",
      " 6   final.output.tail_ag                                16794 non-null  float64\n",
      " 7   final.output.tail_pb                                16677 non-null  float64\n",
      " 8   final.output.tail_sol                               16715 non-null  float64\n",
      " 9   final.output.tail_au                                16794 non-null  float64\n",
      " 10  primary_cleaner.input.sulfate                       15553 non-null  float64\n",
      " 11  primary_cleaner.input.depressant                    15598 non-null  float64\n",
      " 12  primary_cleaner.input.feed_size                     16860 non-null  float64\n",
      " 13  primary_cleaner.input.xanthate                      15875 non-null  float64\n",
      " 14  primary_cleaner.output.concentrate_ag               16778 non-null  float64\n",
      " 15  primary_cleaner.output.concentrate_pb               16502 non-null  float64\n",
      " 16  primary_cleaner.output.concentrate_sol              16224 non-null  float64\n",
      " 17  primary_cleaner.output.concentrate_au               16778 non-null  float64\n",
      " 18  primary_cleaner.output.tail_ag                      16777 non-null  float64\n",
      " 19  primary_cleaner.output.tail_pb                      16761 non-null  float64\n",
      " 20  primary_cleaner.output.tail_sol                     16579 non-null  float64\n",
      " 21  primary_cleaner.output.tail_au                      16777 non-null  float64\n",
      " 22  primary_cleaner.state.floatbank8_a_air              16820 non-null  float64\n",
      " 23  primary_cleaner.state.floatbank8_a_level            16827 non-null  float64\n",
      " 24  primary_cleaner.state.floatbank8_b_air              16820 non-null  float64\n",
      " 25  primary_cleaner.state.floatbank8_b_level            16833 non-null  float64\n",
      " 26  primary_cleaner.state.floatbank8_c_air              16822 non-null  float64\n",
      " 27  primary_cleaner.state.floatbank8_c_level            16833 non-null  float64\n",
      " 28  primary_cleaner.state.floatbank8_d_air              16821 non-null  float64\n",
      " 29  primary_cleaner.state.floatbank8_d_level            16833 non-null  float64\n",
      " 30  rougher.calculation.sulfate_to_au_concentrate       16833 non-null  float64\n",
      " 31  rougher.calculation.floatbank10_sulfate_to_au_feed  16833 non-null  float64\n",
      " 32  rougher.calculation.floatbank11_sulfate_to_au_feed  16833 non-null  float64\n",
      " 33  rougher.calculation.au_pb_ratio                     15618 non-null  float64\n",
      " 34  rougher.input.feed_ag                               16778 non-null  float64\n",
      " 35  rougher.input.feed_pb                               16632 non-null  float64\n",
      " 36  rougher.input.feed_rate                             16347 non-null  float64\n",
      " 37  rougher.input.feed_size                             16443 non-null  float64\n",
      " 38  rougher.input.feed_sol                              16568 non-null  float64\n",
      " 39  rougher.input.feed_au                               16777 non-null  float64\n",
      " 40  rougher.input.floatbank10_sulfate                   15816 non-null  float64\n",
      " 41  rougher.input.floatbank10_xanthate                  16514 non-null  float64\n",
      " 42  rougher.input.floatbank11_sulfate                   16237 non-null  float64\n",
      " 43  rougher.input.floatbank11_xanthate                  14956 non-null  float64\n",
      " 44  rougher.output.concentrate_ag                       16778 non-null  float64\n",
      " 45  rougher.output.concentrate_pb                       16778 non-null  float64\n",
      " 46  rougher.output.concentrate_sol                      16698 non-null  float64\n",
      " 47  rougher.output.concentrate_au                       16778 non-null  float64\n",
      " 48  rougher.output.recovery                             14287 non-null  float64\n",
      " 49  rougher.output.tail_ag                              14610 non-null  float64\n",
      " 50  rougher.output.tail_pb                              16778 non-null  float64\n",
      " 51  rougher.output.tail_sol                             14611 non-null  float64\n",
      " 52  rougher.output.tail_au                              14611 non-null  float64\n",
      " 53  rougher.state.floatbank10_a_air                     16807 non-null  float64\n",
      " 54  rougher.state.floatbank10_a_level                   16807 non-null  float64\n",
      " 55  rougher.state.floatbank10_b_air                     16807 non-null  float64\n",
      " 56  rougher.state.floatbank10_b_level                   16807 non-null  float64\n",
      " 57  rougher.state.floatbank10_c_air                     16807 non-null  float64\n",
      " 58  rougher.state.floatbank10_c_level                   16814 non-null  float64\n",
      " 59  rougher.state.floatbank10_d_air                     16802 non-null  float64\n",
      " 60  rougher.state.floatbank10_d_level                   16809 non-null  float64\n",
      " 61  rougher.state.floatbank10_e_air                     16257 non-null  float64\n",
      " 62  rougher.state.floatbank10_e_level                   16809 non-null  float64\n",
      " 63  rougher.state.floatbank10_f_air                     16802 non-null  float64\n",
      " 64  rougher.state.floatbank10_f_level                   16802 non-null  float64\n",
      " 65  secondary_cleaner.output.tail_ag                    16776 non-null  float64\n",
      " 66  secondary_cleaner.output.tail_pb                    16764 non-null  float64\n",
      " 67  secondary_cleaner.output.tail_sol                   14874 non-null  float64\n",
      " 68  secondary_cleaner.output.tail_au                    16778 non-null  float64\n",
      " 69  secondary_cleaner.state.floatbank2_a_air            16497 non-null  float64\n",
      " 70  secondary_cleaner.state.floatbank2_a_level          16751 non-null  float64\n",
      " 71  secondary_cleaner.state.floatbank2_b_air            16705 non-null  float64\n",
      " 72  secondary_cleaner.state.floatbank2_b_level          16748 non-null  float64\n",
      " 73  secondary_cleaner.state.floatbank3_a_air            16763 non-null  float64\n",
      " 74  secondary_cleaner.state.floatbank3_a_level          16747 non-null  float64\n",
      " 75  secondary_cleaner.state.floatbank3_b_air            16752 non-null  float64\n",
      " 76  secondary_cleaner.state.floatbank3_b_level          16750 non-null  float64\n",
      " 77  secondary_cleaner.state.floatbank4_a_air            16731 non-null  float64\n",
      " 78  secondary_cleaner.state.floatbank4_a_level          16747 non-null  float64\n",
      " 79  secondary_cleaner.state.floatbank4_b_air            16768 non-null  float64\n",
      " 80  secondary_cleaner.state.floatbank4_b_level          16767 non-null  float64\n",
      " 81  secondary_cleaner.state.floatbank5_a_air            16775 non-null  float64\n",
      " 82  secondary_cleaner.state.floatbank5_a_level          16775 non-null  float64\n",
      " 83  secondary_cleaner.state.floatbank5_b_air            16775 non-null  float64\n",
      " 84  secondary_cleaner.state.floatbank5_b_level          16776 non-null  float64\n",
      " 85  secondary_cleaner.state.floatbank6_a_air            16757 non-null  float64\n",
      " 86  secondary_cleaner.state.floatbank6_a_level          16775 non-null  float64\n",
      "dtypes: float64(86), object(1)\n",
      "memory usage: 11.2+ MB\n"
     ]
    }
   ],
   "source": [
    "data_train.info()"
   ]
  },
  {
   "cell_type": "code",
   "execution_count": 5,
   "metadata": {},
   "outputs": [
    {
     "data": {
      "text/plain": [
       "0"
      ]
     },
     "execution_count": 5,
     "metadata": {},
     "output_type": "execute_result"
    }
   ],
   "source": [
    "data_train.duplicated().sum()"
   ]
  },
  {
   "cell_type": "code",
   "execution_count": 6,
   "metadata": {},
   "outputs": [
    {
     "data": {
      "text/plain": [
       "date                                            0\n",
       "final.output.concentrate_ag                    72\n",
       "final.output.concentrate_pb                    72\n",
       "final.output.concentrate_sol                  370\n",
       "final.output.concentrate_au                    71\n",
       "                                             ... \n",
       "secondary_cleaner.state.floatbank5_a_level     85\n",
       "secondary_cleaner.state.floatbank5_b_air       85\n",
       "secondary_cleaner.state.floatbank5_b_level     84\n",
       "secondary_cleaner.state.floatbank6_a_air      103\n",
       "secondary_cleaner.state.floatbank6_a_level     85\n",
       "Length: 87, dtype: int64"
      ]
     },
     "execution_count": 6,
     "metadata": {},
     "output_type": "execute_result"
    }
   ],
   "source": [
    "data_train.isnull().sum()"
   ]
  },
  {
   "cell_type": "markdown",
   "metadata": {},
   "source": [
    "#### Test"
   ]
  },
  {
   "cell_type": "code",
   "execution_count": 7,
   "metadata": {},
   "outputs": [
    {
     "data": {
      "text/html": [
       "<div>\n",
       "<style scoped>\n",
       "    .dataframe tbody tr th:only-of-type {\n",
       "        vertical-align: middle;\n",
       "    }\n",
       "\n",
       "    .dataframe tbody tr th {\n",
       "        vertical-align: top;\n",
       "    }\n",
       "\n",
       "    .dataframe thead th {\n",
       "        text-align: right;\n",
       "    }\n",
       "</style>\n",
       "<table border=\"1\" class=\"dataframe\">\n",
       "  <thead>\n",
       "    <tr style=\"text-align: right;\">\n",
       "      <th></th>\n",
       "      <th>date</th>\n",
       "      <th>primary_cleaner.input.sulfate</th>\n",
       "      <th>primary_cleaner.input.depressant</th>\n",
       "      <th>primary_cleaner.input.feed_size</th>\n",
       "      <th>primary_cleaner.input.xanthate</th>\n",
       "      <th>primary_cleaner.state.floatbank8_a_air</th>\n",
       "      <th>primary_cleaner.state.floatbank8_a_level</th>\n",
       "      <th>primary_cleaner.state.floatbank8_b_air</th>\n",
       "      <th>primary_cleaner.state.floatbank8_b_level</th>\n",
       "      <th>primary_cleaner.state.floatbank8_c_air</th>\n",
       "      <th>...</th>\n",
       "      <th>secondary_cleaner.state.floatbank4_a_air</th>\n",
       "      <th>secondary_cleaner.state.floatbank4_a_level</th>\n",
       "      <th>secondary_cleaner.state.floatbank4_b_air</th>\n",
       "      <th>secondary_cleaner.state.floatbank4_b_level</th>\n",
       "      <th>secondary_cleaner.state.floatbank5_a_air</th>\n",
       "      <th>secondary_cleaner.state.floatbank5_a_level</th>\n",
       "      <th>secondary_cleaner.state.floatbank5_b_air</th>\n",
       "      <th>secondary_cleaner.state.floatbank5_b_level</th>\n",
       "      <th>secondary_cleaner.state.floatbank6_a_air</th>\n",
       "      <th>secondary_cleaner.state.floatbank6_a_level</th>\n",
       "    </tr>\n",
       "  </thead>\n",
       "  <tbody>\n",
       "    <tr>\n",
       "      <th>0</th>\n",
       "      <td>2016-09-01 00:59:59</td>\n",
       "      <td>210.800909</td>\n",
       "      <td>14.993118</td>\n",
       "      <td>8.080000</td>\n",
       "      <td>1.005021</td>\n",
       "      <td>1398.981301</td>\n",
       "      <td>-500.225577</td>\n",
       "      <td>1399.144926</td>\n",
       "      <td>-499.919735</td>\n",
       "      <td>1400.102998</td>\n",
       "      <td>...</td>\n",
       "      <td>12.023554</td>\n",
       "      <td>-497.795834</td>\n",
       "      <td>8.016656</td>\n",
       "      <td>-501.289139</td>\n",
       "      <td>7.946562</td>\n",
       "      <td>-432.317850</td>\n",
       "      <td>4.872511</td>\n",
       "      <td>-500.037437</td>\n",
       "      <td>26.705889</td>\n",
       "      <td>-499.709414</td>\n",
       "    </tr>\n",
       "    <tr>\n",
       "      <th>1</th>\n",
       "      <td>2016-09-01 01:59:59</td>\n",
       "      <td>215.392455</td>\n",
       "      <td>14.987471</td>\n",
       "      <td>8.080000</td>\n",
       "      <td>0.990469</td>\n",
       "      <td>1398.777912</td>\n",
       "      <td>-500.057435</td>\n",
       "      <td>1398.055362</td>\n",
       "      <td>-499.778182</td>\n",
       "      <td>1396.151033</td>\n",
       "      <td>...</td>\n",
       "      <td>12.058140</td>\n",
       "      <td>-498.695773</td>\n",
       "      <td>8.130979</td>\n",
       "      <td>-499.634209</td>\n",
       "      <td>7.958270</td>\n",
       "      <td>-525.839648</td>\n",
       "      <td>4.878850</td>\n",
       "      <td>-500.162375</td>\n",
       "      <td>25.019940</td>\n",
       "      <td>-499.819438</td>\n",
       "    </tr>\n",
       "    <tr>\n",
       "      <th>2</th>\n",
       "      <td>2016-09-01 02:59:59</td>\n",
       "      <td>215.259946</td>\n",
       "      <td>12.884934</td>\n",
       "      <td>7.786667</td>\n",
       "      <td>0.996043</td>\n",
       "      <td>1398.493666</td>\n",
       "      <td>-500.868360</td>\n",
       "      <td>1398.860436</td>\n",
       "      <td>-499.764529</td>\n",
       "      <td>1398.075709</td>\n",
       "      <td>...</td>\n",
       "      <td>11.962366</td>\n",
       "      <td>-498.767484</td>\n",
       "      <td>8.096893</td>\n",
       "      <td>-500.827423</td>\n",
       "      <td>8.071056</td>\n",
       "      <td>-500.801673</td>\n",
       "      <td>4.905125</td>\n",
       "      <td>-499.828510</td>\n",
       "      <td>24.994862</td>\n",
       "      <td>-500.622559</td>\n",
       "    </tr>\n",
       "    <tr>\n",
       "      <th>3</th>\n",
       "      <td>2016-09-01 03:59:59</td>\n",
       "      <td>215.336236</td>\n",
       "      <td>12.006805</td>\n",
       "      <td>7.640000</td>\n",
       "      <td>0.863514</td>\n",
       "      <td>1399.618111</td>\n",
       "      <td>-498.863574</td>\n",
       "      <td>1397.440120</td>\n",
       "      <td>-499.211024</td>\n",
       "      <td>1400.129303</td>\n",
       "      <td>...</td>\n",
       "      <td>12.033091</td>\n",
       "      <td>-498.350935</td>\n",
       "      <td>8.074946</td>\n",
       "      <td>-499.474407</td>\n",
       "      <td>7.897085</td>\n",
       "      <td>-500.868509</td>\n",
       "      <td>4.931400</td>\n",
       "      <td>-499.963623</td>\n",
       "      <td>24.948919</td>\n",
       "      <td>-498.709987</td>\n",
       "    </tr>\n",
       "    <tr>\n",
       "      <th>4</th>\n",
       "      <td>2016-09-01 04:59:59</td>\n",
       "      <td>199.099327</td>\n",
       "      <td>10.682530</td>\n",
       "      <td>7.530000</td>\n",
       "      <td>0.805575</td>\n",
       "      <td>1401.268123</td>\n",
       "      <td>-500.808305</td>\n",
       "      <td>1398.128818</td>\n",
       "      <td>-499.504543</td>\n",
       "      <td>1402.172226</td>\n",
       "      <td>...</td>\n",
       "      <td>12.025367</td>\n",
       "      <td>-500.786497</td>\n",
       "      <td>8.054678</td>\n",
       "      <td>-500.397500</td>\n",
       "      <td>8.107890</td>\n",
       "      <td>-509.526725</td>\n",
       "      <td>4.957674</td>\n",
       "      <td>-500.360026</td>\n",
       "      <td>25.003331</td>\n",
       "      <td>-500.856333</td>\n",
       "    </tr>\n",
       "  </tbody>\n",
       "</table>\n",
       "<p>5 rows × 53 columns</p>\n",
       "</div>"
      ],
      "text/plain": [
       "                  date  primary_cleaner.input.sulfate  \\\n",
       "0  2016-09-01 00:59:59                     210.800909   \n",
       "1  2016-09-01 01:59:59                     215.392455   \n",
       "2  2016-09-01 02:59:59                     215.259946   \n",
       "3  2016-09-01 03:59:59                     215.336236   \n",
       "4  2016-09-01 04:59:59                     199.099327   \n",
       "\n",
       "   primary_cleaner.input.depressant  primary_cleaner.input.feed_size  \\\n",
       "0                         14.993118                         8.080000   \n",
       "1                         14.987471                         8.080000   \n",
       "2                         12.884934                         7.786667   \n",
       "3                         12.006805                         7.640000   \n",
       "4                         10.682530                         7.530000   \n",
       "\n",
       "   primary_cleaner.input.xanthate  primary_cleaner.state.floatbank8_a_air  \\\n",
       "0                        1.005021                             1398.981301   \n",
       "1                        0.990469                             1398.777912   \n",
       "2                        0.996043                             1398.493666   \n",
       "3                        0.863514                             1399.618111   \n",
       "4                        0.805575                             1401.268123   \n",
       "\n",
       "   primary_cleaner.state.floatbank8_a_level  \\\n",
       "0                               -500.225577   \n",
       "1                               -500.057435   \n",
       "2                               -500.868360   \n",
       "3                               -498.863574   \n",
       "4                               -500.808305   \n",
       "\n",
       "   primary_cleaner.state.floatbank8_b_air  \\\n",
       "0                             1399.144926   \n",
       "1                             1398.055362   \n",
       "2                             1398.860436   \n",
       "3                             1397.440120   \n",
       "4                             1398.128818   \n",
       "\n",
       "   primary_cleaner.state.floatbank8_b_level  \\\n",
       "0                               -499.919735   \n",
       "1                               -499.778182   \n",
       "2                               -499.764529   \n",
       "3                               -499.211024   \n",
       "4                               -499.504543   \n",
       "\n",
       "   primary_cleaner.state.floatbank8_c_air  ...  \\\n",
       "0                             1400.102998  ...   \n",
       "1                             1396.151033  ...   \n",
       "2                             1398.075709  ...   \n",
       "3                             1400.129303  ...   \n",
       "4                             1402.172226  ...   \n",
       "\n",
       "   secondary_cleaner.state.floatbank4_a_air  \\\n",
       "0                                 12.023554   \n",
       "1                                 12.058140   \n",
       "2                                 11.962366   \n",
       "3                                 12.033091   \n",
       "4                                 12.025367   \n",
       "\n",
       "   secondary_cleaner.state.floatbank4_a_level  \\\n",
       "0                                 -497.795834   \n",
       "1                                 -498.695773   \n",
       "2                                 -498.767484   \n",
       "3                                 -498.350935   \n",
       "4                                 -500.786497   \n",
       "\n",
       "   secondary_cleaner.state.floatbank4_b_air  \\\n",
       "0                                  8.016656   \n",
       "1                                  8.130979   \n",
       "2                                  8.096893   \n",
       "3                                  8.074946   \n",
       "4                                  8.054678   \n",
       "\n",
       "   secondary_cleaner.state.floatbank4_b_level  \\\n",
       "0                                 -501.289139   \n",
       "1                                 -499.634209   \n",
       "2                                 -500.827423   \n",
       "3                                 -499.474407   \n",
       "4                                 -500.397500   \n",
       "\n",
       "   secondary_cleaner.state.floatbank5_a_air  \\\n",
       "0                                  7.946562   \n",
       "1                                  7.958270   \n",
       "2                                  8.071056   \n",
       "3                                  7.897085   \n",
       "4                                  8.107890   \n",
       "\n",
       "   secondary_cleaner.state.floatbank5_a_level  \\\n",
       "0                                 -432.317850   \n",
       "1                                 -525.839648   \n",
       "2                                 -500.801673   \n",
       "3                                 -500.868509   \n",
       "4                                 -509.526725   \n",
       "\n",
       "   secondary_cleaner.state.floatbank5_b_air  \\\n",
       "0                                  4.872511   \n",
       "1                                  4.878850   \n",
       "2                                  4.905125   \n",
       "3                                  4.931400   \n",
       "4                                  4.957674   \n",
       "\n",
       "   secondary_cleaner.state.floatbank5_b_level  \\\n",
       "0                                 -500.037437   \n",
       "1                                 -500.162375   \n",
       "2                                 -499.828510   \n",
       "3                                 -499.963623   \n",
       "4                                 -500.360026   \n",
       "\n",
       "   secondary_cleaner.state.floatbank6_a_air  \\\n",
       "0                                 26.705889   \n",
       "1                                 25.019940   \n",
       "2                                 24.994862   \n",
       "3                                 24.948919   \n",
       "4                                 25.003331   \n",
       "\n",
       "   secondary_cleaner.state.floatbank6_a_level  \n",
       "0                                 -499.709414  \n",
       "1                                 -499.819438  \n",
       "2                                 -500.622559  \n",
       "3                                 -498.709987  \n",
       "4                                 -500.856333  \n",
       "\n",
       "[5 rows x 53 columns]"
      ]
     },
     "execution_count": 7,
     "metadata": {},
     "output_type": "execute_result"
    }
   ],
   "source": [
    "data_test.head()"
   ]
  },
  {
   "cell_type": "code",
   "execution_count": 8,
   "metadata": {},
   "outputs": [
    {
     "name": "stdout",
     "output_type": "stream",
     "text": [
      "<class 'pandas.core.frame.DataFrame'>\n",
      "RangeIndex: 5856 entries, 0 to 5855\n",
      "Data columns (total 53 columns):\n",
      " #   Column                                      Non-Null Count  Dtype  \n",
      "---  ------                                      --------------  -----  \n",
      " 0   date                                        5856 non-null   object \n",
      " 1   primary_cleaner.input.sulfate               5554 non-null   float64\n",
      " 2   primary_cleaner.input.depressant            5572 non-null   float64\n",
      " 3   primary_cleaner.input.feed_size             5856 non-null   float64\n",
      " 4   primary_cleaner.input.xanthate              5690 non-null   float64\n",
      " 5   primary_cleaner.state.floatbank8_a_air      5840 non-null   float64\n",
      " 6   primary_cleaner.state.floatbank8_a_level    5840 non-null   float64\n",
      " 7   primary_cleaner.state.floatbank8_b_air      5840 non-null   float64\n",
      " 8   primary_cleaner.state.floatbank8_b_level    5840 non-null   float64\n",
      " 9   primary_cleaner.state.floatbank8_c_air      5840 non-null   float64\n",
      " 10  primary_cleaner.state.floatbank8_c_level    5840 non-null   float64\n",
      " 11  primary_cleaner.state.floatbank8_d_air      5840 non-null   float64\n",
      " 12  primary_cleaner.state.floatbank8_d_level    5840 non-null   float64\n",
      " 13  rougher.input.feed_ag                       5840 non-null   float64\n",
      " 14  rougher.input.feed_pb                       5840 non-null   float64\n",
      " 15  rougher.input.feed_rate                     5816 non-null   float64\n",
      " 16  rougher.input.feed_size                     5834 non-null   float64\n",
      " 17  rougher.input.feed_sol                      5789 non-null   float64\n",
      " 18  rougher.input.feed_au                       5840 non-null   float64\n",
      " 19  rougher.input.floatbank10_sulfate           5599 non-null   float64\n",
      " 20  rougher.input.floatbank10_xanthate          5733 non-null   float64\n",
      " 21  rougher.input.floatbank11_sulfate           5801 non-null   float64\n",
      " 22  rougher.input.floatbank11_xanthate          5503 non-null   float64\n",
      " 23  rougher.state.floatbank10_a_air             5839 non-null   float64\n",
      " 24  rougher.state.floatbank10_a_level           5840 non-null   float64\n",
      " 25  rougher.state.floatbank10_b_air             5839 non-null   float64\n",
      " 26  rougher.state.floatbank10_b_level           5840 non-null   float64\n",
      " 27  rougher.state.floatbank10_c_air             5839 non-null   float64\n",
      " 28  rougher.state.floatbank10_c_level           5840 non-null   float64\n",
      " 29  rougher.state.floatbank10_d_air             5839 non-null   float64\n",
      " 30  rougher.state.floatbank10_d_level           5840 non-null   float64\n",
      " 31  rougher.state.floatbank10_e_air             5839 non-null   float64\n",
      " 32  rougher.state.floatbank10_e_level           5840 non-null   float64\n",
      " 33  rougher.state.floatbank10_f_air             5839 non-null   float64\n",
      " 34  rougher.state.floatbank10_f_level           5840 non-null   float64\n",
      " 35  secondary_cleaner.state.floatbank2_a_air    5836 non-null   float64\n",
      " 36  secondary_cleaner.state.floatbank2_a_level  5840 non-null   float64\n",
      " 37  secondary_cleaner.state.floatbank2_b_air    5833 non-null   float64\n",
      " 38  secondary_cleaner.state.floatbank2_b_level  5840 non-null   float64\n",
      " 39  secondary_cleaner.state.floatbank3_a_air    5822 non-null   float64\n",
      " 40  secondary_cleaner.state.floatbank3_a_level  5840 non-null   float64\n",
      " 41  secondary_cleaner.state.floatbank3_b_air    5840 non-null   float64\n",
      " 42  secondary_cleaner.state.floatbank3_b_level  5840 non-null   float64\n",
      " 43  secondary_cleaner.state.floatbank4_a_air    5840 non-null   float64\n",
      " 44  secondary_cleaner.state.floatbank4_a_level  5840 non-null   float64\n",
      " 45  secondary_cleaner.state.floatbank4_b_air    5840 non-null   float64\n",
      " 46  secondary_cleaner.state.floatbank4_b_level  5840 non-null   float64\n",
      " 47  secondary_cleaner.state.floatbank5_a_air    5840 non-null   float64\n",
      " 48  secondary_cleaner.state.floatbank5_a_level  5840 non-null   float64\n",
      " 49  secondary_cleaner.state.floatbank5_b_air    5840 non-null   float64\n",
      " 50  secondary_cleaner.state.floatbank5_b_level  5840 non-null   float64\n",
      " 51  secondary_cleaner.state.floatbank6_a_air    5840 non-null   float64\n",
      " 52  secondary_cleaner.state.floatbank6_a_level  5840 non-null   float64\n",
      "dtypes: float64(52), object(1)\n",
      "memory usage: 2.4+ MB\n"
     ]
    }
   ],
   "source": [
    "data_test.info()"
   ]
  },
  {
   "cell_type": "code",
   "execution_count": 9,
   "metadata": {},
   "outputs": [
    {
     "data": {
      "text/plain": [
       "0"
      ]
     },
     "execution_count": 9,
     "metadata": {},
     "output_type": "execute_result"
    }
   ],
   "source": [
    "data_test.duplicated().sum()"
   ]
  },
  {
   "cell_type": "code",
   "execution_count": 10,
   "metadata": {
    "scrolled": true
   },
   "outputs": [
    {
     "data": {
      "text/plain": [
       "date                                            0\n",
       "primary_cleaner.input.sulfate                 302\n",
       "primary_cleaner.input.depressant              284\n",
       "primary_cleaner.input.feed_size                 0\n",
       "primary_cleaner.input.xanthate                166\n",
       "primary_cleaner.state.floatbank8_a_air         16\n",
       "primary_cleaner.state.floatbank8_a_level       16\n",
       "primary_cleaner.state.floatbank8_b_air         16\n",
       "primary_cleaner.state.floatbank8_b_level       16\n",
       "primary_cleaner.state.floatbank8_c_air         16\n",
       "primary_cleaner.state.floatbank8_c_level       16\n",
       "primary_cleaner.state.floatbank8_d_air         16\n",
       "primary_cleaner.state.floatbank8_d_level       16\n",
       "rougher.input.feed_ag                          16\n",
       "rougher.input.feed_pb                          16\n",
       "rougher.input.feed_rate                        40\n",
       "rougher.input.feed_size                        22\n",
       "rougher.input.feed_sol                         67\n",
       "rougher.input.feed_au                          16\n",
       "rougher.input.floatbank10_sulfate             257\n",
       "rougher.input.floatbank10_xanthate            123\n",
       "rougher.input.floatbank11_sulfate              55\n",
       "rougher.input.floatbank11_xanthate            353\n",
       "rougher.state.floatbank10_a_air                17\n",
       "rougher.state.floatbank10_a_level              16\n",
       "rougher.state.floatbank10_b_air                17\n",
       "rougher.state.floatbank10_b_level              16\n",
       "rougher.state.floatbank10_c_air                17\n",
       "rougher.state.floatbank10_c_level              16\n",
       "rougher.state.floatbank10_d_air                17\n",
       "rougher.state.floatbank10_d_level              16\n",
       "rougher.state.floatbank10_e_air                17\n",
       "rougher.state.floatbank10_e_level              16\n",
       "rougher.state.floatbank10_f_air                17\n",
       "rougher.state.floatbank10_f_level              16\n",
       "secondary_cleaner.state.floatbank2_a_air       20\n",
       "secondary_cleaner.state.floatbank2_a_level     16\n",
       "secondary_cleaner.state.floatbank2_b_air       23\n",
       "secondary_cleaner.state.floatbank2_b_level     16\n",
       "secondary_cleaner.state.floatbank3_a_air       34\n",
       "secondary_cleaner.state.floatbank3_a_level     16\n",
       "secondary_cleaner.state.floatbank3_b_air       16\n",
       "secondary_cleaner.state.floatbank3_b_level     16\n",
       "secondary_cleaner.state.floatbank4_a_air       16\n",
       "secondary_cleaner.state.floatbank4_a_level     16\n",
       "secondary_cleaner.state.floatbank4_b_air       16\n",
       "secondary_cleaner.state.floatbank4_b_level     16\n",
       "secondary_cleaner.state.floatbank5_a_air       16\n",
       "secondary_cleaner.state.floatbank5_a_level     16\n",
       "secondary_cleaner.state.floatbank5_b_air       16\n",
       "secondary_cleaner.state.floatbank5_b_level     16\n",
       "secondary_cleaner.state.floatbank6_a_air       16\n",
       "secondary_cleaner.state.floatbank6_a_level     16\n",
       "dtype: int64"
      ]
     },
     "execution_count": 10,
     "metadata": {},
     "output_type": "execute_result"
    }
   ],
   "source": [
    "data_test.isnull().sum()"
   ]
  },
  {
   "cell_type": "code",
   "execution_count": 11,
   "metadata": {},
   "outputs": [],
   "source": [
    "#Convert Train df [date] feature column datatype\n",
    "data_train['date'] = pd.to_datetime(data_train['date'])\n",
    "#Convert Full df [date] feature column datatype\n",
    "data_full['date'] = pd.to_datetime(data_full['date'])\n",
    "#Convert Test df [date] feature column datatype\n",
    "data_test['date'] = pd.to_datetime(data_test['date'])"
   ]
  },
  {
   "cell_type": "code",
   "execution_count": 12,
   "metadata": {},
   "outputs": [],
   "source": [
    "#Merge Test df with full dataset to add the missing target columns\n",
    "\n",
    "data_test = data_test.merge(data_full[['date', 'rougher.output.recovery', 'final.output.recovery']],\n",
    "                       how='left', on='date')\n",
    "\n",
    "for col in ['rougher.output.recovery', 'final.output.recovery']:\n",
    "    data_test[data_test[col]<0.001] = np.nan"
   ]
  },
  {
   "cell_type": "code",
   "execution_count": 13,
   "metadata": {},
   "outputs": [
    {
     "name": "stdout",
     "output_type": "stream",
     "text": [
      "Percentage of missing values in Test DF: 2.37%\n"
     ]
    }
   ],
   "source": [
    "#Check percentage of missing values in test dataset to determine if it's low enough to drop all missing records\n",
    "null_percentage_test = data_test.isnull().sum().sum() / (data_test.shape[0] * data_train.shape[1 ]) * 100\n",
    "\n",
    "print(f\"Percentage of missing values in Test DF:{null_percentage_test: .2f}%\")\n",
    "\n",
    "#Missing values are low enough percentage of entire dataset to drop them\n",
    "data_train = data_train.dropna()"
   ]
  },
  {
   "cell_type": "code",
   "execution_count": 14,
   "metadata": {},
   "outputs": [],
   "source": [
    "#Replace the positive and negative infinity values\n",
    "data_test.replace([np.inf, -np.inf], np.nan, inplace=True)\n",
    "data_test.fillna(method='ffill', inplace=True)"
   ]
  },
  {
   "cell_type": "markdown",
   "metadata": {},
   "source": [
    "#### Full"
   ]
  },
  {
   "cell_type": "code",
   "execution_count": 15,
   "metadata": {},
   "outputs": [
    {
     "data": {
      "text/html": [
       "<div>\n",
       "<style scoped>\n",
       "    .dataframe tbody tr th:only-of-type {\n",
       "        vertical-align: middle;\n",
       "    }\n",
       "\n",
       "    .dataframe tbody tr th {\n",
       "        vertical-align: top;\n",
       "    }\n",
       "\n",
       "    .dataframe thead th {\n",
       "        text-align: right;\n",
       "    }\n",
       "</style>\n",
       "<table border=\"1\" class=\"dataframe\">\n",
       "  <thead>\n",
       "    <tr style=\"text-align: right;\">\n",
       "      <th></th>\n",
       "      <th>date</th>\n",
       "      <th>final.output.concentrate_ag</th>\n",
       "      <th>final.output.concentrate_pb</th>\n",
       "      <th>final.output.concentrate_sol</th>\n",
       "      <th>final.output.concentrate_au</th>\n",
       "      <th>final.output.recovery</th>\n",
       "      <th>final.output.tail_ag</th>\n",
       "      <th>final.output.tail_pb</th>\n",
       "      <th>final.output.tail_sol</th>\n",
       "      <th>final.output.tail_au</th>\n",
       "      <th>...</th>\n",
       "      <th>secondary_cleaner.state.floatbank4_a_air</th>\n",
       "      <th>secondary_cleaner.state.floatbank4_a_level</th>\n",
       "      <th>secondary_cleaner.state.floatbank4_b_air</th>\n",
       "      <th>secondary_cleaner.state.floatbank4_b_level</th>\n",
       "      <th>secondary_cleaner.state.floatbank5_a_air</th>\n",
       "      <th>secondary_cleaner.state.floatbank5_a_level</th>\n",
       "      <th>secondary_cleaner.state.floatbank5_b_air</th>\n",
       "      <th>secondary_cleaner.state.floatbank5_b_level</th>\n",
       "      <th>secondary_cleaner.state.floatbank6_a_air</th>\n",
       "      <th>secondary_cleaner.state.floatbank6_a_level</th>\n",
       "    </tr>\n",
       "  </thead>\n",
       "  <tbody>\n",
       "    <tr>\n",
       "      <th>0</th>\n",
       "      <td>2016-01-15 00:00:00</td>\n",
       "      <td>6.055403</td>\n",
       "      <td>9.889648</td>\n",
       "      <td>5.507324</td>\n",
       "      <td>42.192020</td>\n",
       "      <td>70.541216</td>\n",
       "      <td>10.411962</td>\n",
       "      <td>0.895447</td>\n",
       "      <td>16.904297</td>\n",
       "      <td>2.143149</td>\n",
       "      <td>...</td>\n",
       "      <td>14.016835</td>\n",
       "      <td>-502.488007</td>\n",
       "      <td>12.099931</td>\n",
       "      <td>-504.715942</td>\n",
       "      <td>9.925633</td>\n",
       "      <td>-498.310211</td>\n",
       "      <td>8.079666</td>\n",
       "      <td>-500.470978</td>\n",
       "      <td>14.151341</td>\n",
       "      <td>-605.841980</td>\n",
       "    </tr>\n",
       "    <tr>\n",
       "      <th>1</th>\n",
       "      <td>2016-01-15 01:00:00</td>\n",
       "      <td>6.029369</td>\n",
       "      <td>9.968944</td>\n",
       "      <td>5.257781</td>\n",
       "      <td>42.701629</td>\n",
       "      <td>69.266198</td>\n",
       "      <td>10.462676</td>\n",
       "      <td>0.927452</td>\n",
       "      <td>16.634514</td>\n",
       "      <td>2.224930</td>\n",
       "      <td>...</td>\n",
       "      <td>13.992281</td>\n",
       "      <td>-505.503262</td>\n",
       "      <td>11.950531</td>\n",
       "      <td>-501.331529</td>\n",
       "      <td>10.039245</td>\n",
       "      <td>-500.169983</td>\n",
       "      <td>7.984757</td>\n",
       "      <td>-500.582168</td>\n",
       "      <td>13.998353</td>\n",
       "      <td>-599.787184</td>\n",
       "    </tr>\n",
       "    <tr>\n",
       "      <th>2</th>\n",
       "      <td>2016-01-15 02:00:00</td>\n",
       "      <td>6.055926</td>\n",
       "      <td>10.213995</td>\n",
       "      <td>5.383759</td>\n",
       "      <td>42.657501</td>\n",
       "      <td>68.116445</td>\n",
       "      <td>10.507046</td>\n",
       "      <td>0.953716</td>\n",
       "      <td>16.208849</td>\n",
       "      <td>2.257889</td>\n",
       "      <td>...</td>\n",
       "      <td>14.015015</td>\n",
       "      <td>-502.520901</td>\n",
       "      <td>11.912783</td>\n",
       "      <td>-501.133383</td>\n",
       "      <td>10.070913</td>\n",
       "      <td>-500.129135</td>\n",
       "      <td>8.013877</td>\n",
       "      <td>-500.517572</td>\n",
       "      <td>14.028663</td>\n",
       "      <td>-601.427363</td>\n",
       "    </tr>\n",
       "    <tr>\n",
       "      <th>3</th>\n",
       "      <td>2016-01-15 03:00:00</td>\n",
       "      <td>6.047977</td>\n",
       "      <td>9.977019</td>\n",
       "      <td>4.858634</td>\n",
       "      <td>42.689819</td>\n",
       "      <td>68.347543</td>\n",
       "      <td>10.422762</td>\n",
       "      <td>0.883763</td>\n",
       "      <td>16.532835</td>\n",
       "      <td>2.146849</td>\n",
       "      <td>...</td>\n",
       "      <td>14.036510</td>\n",
       "      <td>-500.857308</td>\n",
       "      <td>11.999550</td>\n",
       "      <td>-501.193686</td>\n",
       "      <td>9.970366</td>\n",
       "      <td>-499.201640</td>\n",
       "      <td>7.977324</td>\n",
       "      <td>-500.255908</td>\n",
       "      <td>14.005551</td>\n",
       "      <td>-599.996129</td>\n",
       "    </tr>\n",
       "    <tr>\n",
       "      <th>4</th>\n",
       "      <td>2016-01-15 04:00:00</td>\n",
       "      <td>6.148599</td>\n",
       "      <td>10.142511</td>\n",
       "      <td>4.939416</td>\n",
       "      <td>42.774141</td>\n",
       "      <td>66.927016</td>\n",
       "      <td>10.360302</td>\n",
       "      <td>0.792826</td>\n",
       "      <td>16.525686</td>\n",
       "      <td>2.055292</td>\n",
       "      <td>...</td>\n",
       "      <td>14.027298</td>\n",
       "      <td>-499.838632</td>\n",
       "      <td>11.953070</td>\n",
       "      <td>-501.053894</td>\n",
       "      <td>9.925709</td>\n",
       "      <td>-501.686727</td>\n",
       "      <td>7.894242</td>\n",
       "      <td>-500.356035</td>\n",
       "      <td>13.996647</td>\n",
       "      <td>-601.496691</td>\n",
       "    </tr>\n",
       "  </tbody>\n",
       "</table>\n",
       "<p>5 rows × 87 columns</p>\n",
       "</div>"
      ],
      "text/plain": [
       "                 date  final.output.concentrate_ag  \\\n",
       "0 2016-01-15 00:00:00                     6.055403   \n",
       "1 2016-01-15 01:00:00                     6.029369   \n",
       "2 2016-01-15 02:00:00                     6.055926   \n",
       "3 2016-01-15 03:00:00                     6.047977   \n",
       "4 2016-01-15 04:00:00                     6.148599   \n",
       "\n",
       "   final.output.concentrate_pb  final.output.concentrate_sol  \\\n",
       "0                     9.889648                      5.507324   \n",
       "1                     9.968944                      5.257781   \n",
       "2                    10.213995                      5.383759   \n",
       "3                     9.977019                      4.858634   \n",
       "4                    10.142511                      4.939416   \n",
       "\n",
       "   final.output.concentrate_au  final.output.recovery  final.output.tail_ag  \\\n",
       "0                    42.192020              70.541216             10.411962   \n",
       "1                    42.701629              69.266198             10.462676   \n",
       "2                    42.657501              68.116445             10.507046   \n",
       "3                    42.689819              68.347543             10.422762   \n",
       "4                    42.774141              66.927016             10.360302   \n",
       "\n",
       "   final.output.tail_pb  final.output.tail_sol  final.output.tail_au  ...  \\\n",
       "0              0.895447              16.904297              2.143149  ...   \n",
       "1              0.927452              16.634514              2.224930  ...   \n",
       "2              0.953716              16.208849              2.257889  ...   \n",
       "3              0.883763              16.532835              2.146849  ...   \n",
       "4              0.792826              16.525686              2.055292  ...   \n",
       "\n",
       "   secondary_cleaner.state.floatbank4_a_air  \\\n",
       "0                                 14.016835   \n",
       "1                                 13.992281   \n",
       "2                                 14.015015   \n",
       "3                                 14.036510   \n",
       "4                                 14.027298   \n",
       "\n",
       "   secondary_cleaner.state.floatbank4_a_level  \\\n",
       "0                                 -502.488007   \n",
       "1                                 -505.503262   \n",
       "2                                 -502.520901   \n",
       "3                                 -500.857308   \n",
       "4                                 -499.838632   \n",
       "\n",
       "   secondary_cleaner.state.floatbank4_b_air  \\\n",
       "0                                 12.099931   \n",
       "1                                 11.950531   \n",
       "2                                 11.912783   \n",
       "3                                 11.999550   \n",
       "4                                 11.953070   \n",
       "\n",
       "   secondary_cleaner.state.floatbank4_b_level  \\\n",
       "0                                 -504.715942   \n",
       "1                                 -501.331529   \n",
       "2                                 -501.133383   \n",
       "3                                 -501.193686   \n",
       "4                                 -501.053894   \n",
       "\n",
       "   secondary_cleaner.state.floatbank5_a_air  \\\n",
       "0                                  9.925633   \n",
       "1                                 10.039245   \n",
       "2                                 10.070913   \n",
       "3                                  9.970366   \n",
       "4                                  9.925709   \n",
       "\n",
       "   secondary_cleaner.state.floatbank5_a_level  \\\n",
       "0                                 -498.310211   \n",
       "1                                 -500.169983   \n",
       "2                                 -500.129135   \n",
       "3                                 -499.201640   \n",
       "4                                 -501.686727   \n",
       "\n",
       "   secondary_cleaner.state.floatbank5_b_air  \\\n",
       "0                                  8.079666   \n",
       "1                                  7.984757   \n",
       "2                                  8.013877   \n",
       "3                                  7.977324   \n",
       "4                                  7.894242   \n",
       "\n",
       "   secondary_cleaner.state.floatbank5_b_level  \\\n",
       "0                                 -500.470978   \n",
       "1                                 -500.582168   \n",
       "2                                 -500.517572   \n",
       "3                                 -500.255908   \n",
       "4                                 -500.356035   \n",
       "\n",
       "   secondary_cleaner.state.floatbank6_a_air  \\\n",
       "0                                 14.151341   \n",
       "1                                 13.998353   \n",
       "2                                 14.028663   \n",
       "3                                 14.005551   \n",
       "4                                 13.996647   \n",
       "\n",
       "   secondary_cleaner.state.floatbank6_a_level  \n",
       "0                                 -605.841980  \n",
       "1                                 -599.787184  \n",
       "2                                 -601.427363  \n",
       "3                                 -599.996129  \n",
       "4                                 -601.496691  \n",
       "\n",
       "[5 rows x 87 columns]"
      ]
     },
     "execution_count": 15,
     "metadata": {},
     "output_type": "execute_result"
    }
   ],
   "source": [
    "data_full.head()"
   ]
  },
  {
   "cell_type": "code",
   "execution_count": 16,
   "metadata": {},
   "outputs": [
    {
     "name": "stdout",
     "output_type": "stream",
     "text": [
      "<class 'pandas.core.frame.DataFrame'>\n",
      "RangeIndex: 22716 entries, 0 to 22715\n",
      "Data columns (total 87 columns):\n",
      " #   Column                                              Non-Null Count  Dtype         \n",
      "---  ------                                              --------------  -----         \n",
      " 0   date                                                22716 non-null  datetime64[ns]\n",
      " 1   final.output.concentrate_ag                         22627 non-null  float64       \n",
      " 2   final.output.concentrate_pb                         22629 non-null  float64       \n",
      " 3   final.output.concentrate_sol                        22331 non-null  float64       \n",
      " 4   final.output.concentrate_au                         22630 non-null  float64       \n",
      " 5   final.output.recovery                               20753 non-null  float64       \n",
      " 6   final.output.tail_ag                                22633 non-null  float64       \n",
      " 7   final.output.tail_pb                                22516 non-null  float64       \n",
      " 8   final.output.tail_sol                               22445 non-null  float64       \n",
      " 9   final.output.tail_au                                22635 non-null  float64       \n",
      " 10  primary_cleaner.input.sulfate                       21107 non-null  float64       \n",
      " 11  primary_cleaner.input.depressant                    21170 non-null  float64       \n",
      " 12  primary_cleaner.input.feed_size                     22716 non-null  float64       \n",
      " 13  primary_cleaner.input.xanthate                      21565 non-null  float64       \n",
      " 14  primary_cleaner.output.concentrate_ag               22618 non-null  float64       \n",
      " 15  primary_cleaner.output.concentrate_pb               22268 non-null  float64       \n",
      " 16  primary_cleaner.output.concentrate_sol              21918 non-null  float64       \n",
      " 17  primary_cleaner.output.concentrate_au               22618 non-null  float64       \n",
      " 18  primary_cleaner.output.tail_ag                      22614 non-null  float64       \n",
      " 19  primary_cleaner.output.tail_pb                      22594 non-null  float64       \n",
      " 20  primary_cleaner.output.tail_sol                     22365 non-null  float64       \n",
      " 21  primary_cleaner.output.tail_au                      22617 non-null  float64       \n",
      " 22  primary_cleaner.state.floatbank8_a_air              22660 non-null  float64       \n",
      " 23  primary_cleaner.state.floatbank8_a_level            22667 non-null  float64       \n",
      " 24  primary_cleaner.state.floatbank8_b_air              22660 non-null  float64       \n",
      " 25  primary_cleaner.state.floatbank8_b_level            22673 non-null  float64       \n",
      " 26  primary_cleaner.state.floatbank8_c_air              22662 non-null  float64       \n",
      " 27  primary_cleaner.state.floatbank8_c_level            22673 non-null  float64       \n",
      " 28  primary_cleaner.state.floatbank8_d_air              22661 non-null  float64       \n",
      " 29  primary_cleaner.state.floatbank8_d_level            22673 non-null  float64       \n",
      " 30  rougher.calculation.sulfate_to_au_concentrate       22672 non-null  float64       \n",
      " 31  rougher.calculation.floatbank10_sulfate_to_au_feed  22672 non-null  float64       \n",
      " 32  rougher.calculation.floatbank11_sulfate_to_au_feed  22672 non-null  float64       \n",
      " 33  rougher.calculation.au_pb_ratio                     21089 non-null  float64       \n",
      " 34  rougher.input.feed_ag                               22618 non-null  float64       \n",
      " 35  rougher.input.feed_pb                               22472 non-null  float64       \n",
      " 36  rougher.input.feed_rate                             22163 non-null  float64       \n",
      " 37  rougher.input.feed_size                             22277 non-null  float64       \n",
      " 38  rougher.input.feed_sol                              22357 non-null  float64       \n",
      " 39  rougher.input.feed_au                               22617 non-null  float64       \n",
      " 40  rougher.input.floatbank10_sulfate                   21415 non-null  float64       \n",
      " 41  rougher.input.floatbank10_xanthate                  22247 non-null  float64       \n",
      " 42  rougher.input.floatbank11_sulfate                   22038 non-null  float64       \n",
      " 43  rougher.input.floatbank11_xanthate                  20459 non-null  float64       \n",
      " 44  rougher.output.concentrate_ag                       22618 non-null  float64       \n",
      " 45  rougher.output.concentrate_pb                       22618 non-null  float64       \n",
      " 46  rougher.output.concentrate_sol                      22526 non-null  float64       \n",
      " 47  rougher.output.concentrate_au                       22618 non-null  float64       \n",
      " 48  rougher.output.recovery                             19597 non-null  float64       \n",
      " 49  rougher.output.tail_ag                              19979 non-null  float64       \n",
      " 50  rougher.output.tail_pb                              22618 non-null  float64       \n",
      " 51  rougher.output.tail_sol                             19980 non-null  float64       \n",
      " 52  rougher.output.tail_au                              19980 non-null  float64       \n",
      " 53  rougher.state.floatbank10_a_air                     22646 non-null  float64       \n",
      " 54  rougher.state.floatbank10_a_level                   22647 non-null  float64       \n",
      " 55  rougher.state.floatbank10_b_air                     22646 non-null  float64       \n",
      " 56  rougher.state.floatbank10_b_level                   22647 non-null  float64       \n",
      " 57  rougher.state.floatbank10_c_air                     22646 non-null  float64       \n",
      " 58  rougher.state.floatbank10_c_level                   22654 non-null  float64       \n",
      " 59  rougher.state.floatbank10_d_air                     22641 non-null  float64       \n",
      " 60  rougher.state.floatbank10_d_level                   22649 non-null  float64       \n",
      " 61  rougher.state.floatbank10_e_air                     22096 non-null  float64       \n",
      " 62  rougher.state.floatbank10_e_level                   22649 non-null  float64       \n",
      " 63  rougher.state.floatbank10_f_air                     22641 non-null  float64       \n",
      " 64  rougher.state.floatbank10_f_level                   22642 non-null  float64       \n",
      " 65  secondary_cleaner.output.tail_ag                    22616 non-null  float64       \n",
      " 66  secondary_cleaner.output.tail_pb                    22600 non-null  float64       \n",
      " 67  secondary_cleaner.output.tail_sol                   20501 non-null  float64       \n",
      " 68  secondary_cleaner.output.tail_au                    22618 non-null  float64       \n",
      " 69  secondary_cleaner.state.floatbank2_a_air            22333 non-null  float64       \n",
      " 70  secondary_cleaner.state.floatbank2_a_level          22591 non-null  float64       \n",
      " 71  secondary_cleaner.state.floatbank2_b_air            22538 non-null  float64       \n",
      " 72  secondary_cleaner.state.floatbank2_b_level          22588 non-null  float64       \n",
      " 73  secondary_cleaner.state.floatbank3_a_air            22585 non-null  float64       \n",
      " 74  secondary_cleaner.state.floatbank3_a_level          22587 non-null  float64       \n",
      " 75  secondary_cleaner.state.floatbank3_b_air            22592 non-null  float64       \n",
      " 76  secondary_cleaner.state.floatbank3_b_level          22590 non-null  float64       \n",
      " 77  secondary_cleaner.state.floatbank4_a_air            22571 non-null  float64       \n",
      " 78  secondary_cleaner.state.floatbank4_a_level          22587 non-null  float64       \n",
      " 79  secondary_cleaner.state.floatbank4_b_air            22608 non-null  float64       \n",
      " 80  secondary_cleaner.state.floatbank4_b_level          22607 non-null  float64       \n",
      " 81  secondary_cleaner.state.floatbank5_a_air            22615 non-null  float64       \n",
      " 82  secondary_cleaner.state.floatbank5_a_level          22615 non-null  float64       \n",
      " 83  secondary_cleaner.state.floatbank5_b_air            22615 non-null  float64       \n",
      " 84  secondary_cleaner.state.floatbank5_b_level          22616 non-null  float64       \n",
      " 85  secondary_cleaner.state.floatbank6_a_air            22597 non-null  float64       \n",
      " 86  secondary_cleaner.state.floatbank6_a_level          22615 non-null  float64       \n",
      "dtypes: datetime64[ns](1), float64(86)\n",
      "memory usage: 15.1 MB\n"
     ]
    }
   ],
   "source": [
    "data_full.info()"
   ]
  },
  {
   "cell_type": "code",
   "execution_count": 17,
   "metadata": {},
   "outputs": [
    {
     "data": {
      "text/plain": [
       "0"
      ]
     },
     "execution_count": 17,
     "metadata": {},
     "output_type": "execute_result"
    }
   ],
   "source": [
    "data_full.duplicated().sum()"
   ]
  },
  {
   "cell_type": "code",
   "execution_count": 18,
   "metadata": {},
   "outputs": [
    {
     "data": {
      "text/plain": [
       "date                                            0\n",
       "final.output.concentrate_ag                    89\n",
       "final.output.concentrate_pb                    87\n",
       "final.output.concentrate_sol                  385\n",
       "final.output.concentrate_au                    86\n",
       "                                             ... \n",
       "secondary_cleaner.state.floatbank5_a_level    101\n",
       "secondary_cleaner.state.floatbank5_b_air      101\n",
       "secondary_cleaner.state.floatbank5_b_level    100\n",
       "secondary_cleaner.state.floatbank6_a_air      119\n",
       "secondary_cleaner.state.floatbank6_a_level    101\n",
       "Length: 87, dtype: int64"
      ]
     },
     "execution_count": 18,
     "metadata": {},
     "output_type": "execute_result"
    }
   ],
   "source": [
    "data_full.isnull().sum()"
   ]
  },
  {
   "cell_type": "markdown",
   "metadata": {},
   "source": [
    "### Is Recovery calculated correctly?"
   ]
  },
  {
   "cell_type": "markdown",
   "metadata": {},
   "source": [
    "We are given a column labeled rougher.output.recovery which is a calculated value column using an equation with the variables C, T, F (or concentrate, tail, and feed). We will now test if that column rougher.output.recovery was calculated correctly by running the function for recovery manually and see if we get a similar result."
   ]
  },
  {
   "cell_type": "code",
   "execution_count": 19,
   "metadata": {},
   "outputs": [
    {
     "data": {
      "image/png": "[encoded data removed]",
      "text/plain": [
       "<Figure size 640x480 with 1 Axes>"
      ]
     },
     "metadata": {},
     "output_type": "display_data"
    }
   ],
   "source": [
    "sns.histplot(data_train['rougher.output.recovery'], bins=50)\n",
    "plt.show()"
   ]
  },
  {
   "cell_type": "code",
   "execution_count": 20,
   "metadata": {},
   "outputs": [
    {
     "name": "stdout",
     "output_type": "stream",
     "text": [
      "Missing values for actual_recovery: 0\n",
      "Missing values for calculated_recovery: 0\n",
      "Values that are infinite in actual_recovery: 0\n",
      "Values that are infinite in calculated_recovery: 0\n",
      "Value max in actual_recovery: 100.0\n",
      "Value max in calculated_recovery: 100.0\n"
     ]
    }
   ],
   "source": [
    "feed = data_train['rougher.input.feed_au']\n",
    "concentrate = data_train['rougher.output.concentrate_au']\n",
    "tail = data_train['rougher.output.tail_au']\n",
    "actual_recovery = data_train['rougher.output.recovery']\n",
    "\n",
    "# Perform the recovery calculation\n",
    "calculated_recovery = (concentrate * (feed - tail)) / (feed * (concentrate - tail)) * 100\n",
    "\n",
    "# Check for NaN values\n",
    "print(f\"Missing values for actual_recovery:\", actual_recovery.isna().sum())\n",
    "print(f\"Missing values for calculated_recovery:\", calculated_recovery.isna().sum())\n",
    "\n",
    "# Check for infinite values\n",
    "print(f\"Values that are infinite in actual_recovery:\", np.isinf(actual_recovery).sum())\n",
    "print(f\"Values that are infinite in calculated_recovery:\",np.isinf(calculated_recovery).sum())\n",
    "\n",
    "# Check for extremely large values\n",
    "print(f\"Value max in actual_recovery:\",actual_recovery.max())\n",
    "print(f\"Value max in calculated_recovery:\",calculated_recovery.max())"
   ]
  },
  {
   "cell_type": "code",
   "execution_count": 21,
   "metadata": {},
   "outputs": [],
   "source": [
    "# Combine the conditions to filter out problematic rows\n",
    "clean_mask = ~(actual_recovery.isna() | calculated_recovery.isna() | np.isinf(actual_recovery) | np.isinf(calculated_recovery))\n",
    "\n",
    "# Filter the data\n",
    "actual_recovery_clean = actual_recovery[clean_mask]\n",
    "calculated_recovery_clean = calculated_recovery[clean_mask]"
   ]
  },
  {
   "cell_type": "code",
   "execution_count": 22,
   "metadata": {},
   "outputs": [
    {
     "name": "stdout",
     "output_type": "stream",
     "text": [
      "Missing values for actual_recovery_clean: 0\n",
      "Missing values for calculated_recovery_clean: 0\n",
      "Values that are infinite in actual_recovery_clean: 0\n",
      "Values that are infinite in calculated_recovery_clean: 0\n",
      "Value max in actual_recovery_clean: 100.0\n",
      "Value max in calculated_recovery_clean: 100.0\n"
     ]
    }
   ],
   "source": [
    "print(f\"Missing values for actual_recovery_clean:\", actual_recovery_clean.isna().sum())\n",
    "print(f\"Missing values for calculated_recovery_clean:\", calculated_recovery_clean.isna().sum())\n",
    "print(f\"Values that are infinite in actual_recovery_clean:\", np.isinf(actual_recovery_clean).sum())\n",
    "print(f\"Values that are infinite in calculated_recovery_clean:\", np.isinf(calculated_recovery_clean).sum())\n",
    "print(f\"Value max in actual_recovery_clean:\", actual_recovery_clean.max())\n",
    "print(f\"Value max in calculated_recovery_clean:\", calculated_recovery_clean.max())"
   ]
  },
  {
   "cell_type": "code",
   "execution_count": 23,
   "metadata": {},
   "outputs": [
    {
     "name": "stdout",
     "output_type": "stream",
     "text": [
      "Mean Absolute Error:  9.460144184559453e-15\n"
     ]
    }
   ],
   "source": [
    "# Calculate MAE\n",
    "mae = mean_absolute_error(actual_recovery_clean, calculated_recovery_clean)\n",
    "print(\"Mean Absolute Error: \", mae)"
   ]
  },
  {
   "cell_type": "markdown",
   "metadata": {},
   "source": [
    "After calculating the MAE between the recovery given in our dataset and the calculated recovery performed with the calculated_recovery function we get a very low MAE value (9.3e-15). This tells us that the recovery values given to us in the dataset are accurate. However, we need to note that certain values within our calculated recovery equation yielded infinite values due to missing values or zero values which were dropped before our calculation was executed sucessfully. "
   ]
  },
  {
   "cell_type": "markdown",
   "metadata": {},
   "source": [
    "### Analyze the features not present in the Test Data"
   ]
  },
  {
   "cell_type": "code",
   "execution_count": 24,
   "metadata": {
    "scrolled": true
   },
   "outputs": [
    {
     "data": {
      "text/plain": [
       "['date',\n",
       " 'final.output.recovery',\n",
       " 'primary_cleaner.input.depressant',\n",
       " 'primary_cleaner.input.feed_size',\n",
       " 'primary_cleaner.input.sulfate',\n",
       " 'primary_cleaner.input.xanthate',\n",
       " 'primary_cleaner.state.floatbank8_a_air',\n",
       " 'primary_cleaner.state.floatbank8_a_level',\n",
       " 'primary_cleaner.state.floatbank8_b_air',\n",
       " 'primary_cleaner.state.floatbank8_b_level',\n",
       " 'primary_cleaner.state.floatbank8_c_air',\n",
       " 'primary_cleaner.state.floatbank8_c_level',\n",
       " 'primary_cleaner.state.floatbank8_d_air',\n",
       " 'primary_cleaner.state.floatbank8_d_level',\n",
       " 'rougher.input.feed_ag',\n",
       " 'rougher.input.feed_au',\n",
       " 'rougher.input.feed_pb',\n",
       " 'rougher.input.feed_rate',\n",
       " 'rougher.input.feed_size',\n",
       " 'rougher.input.feed_sol',\n",
       " 'rougher.input.floatbank10_sulfate',\n",
       " 'rougher.input.floatbank10_xanthate',\n",
       " 'rougher.input.floatbank11_sulfate',\n",
       " 'rougher.input.floatbank11_xanthate',\n",
       " 'rougher.output.recovery',\n",
       " 'rougher.state.floatbank10_a_air',\n",
       " 'rougher.state.floatbank10_a_level',\n",
       " 'rougher.state.floatbank10_b_air',\n",
       " 'rougher.state.floatbank10_b_level',\n",
       " 'rougher.state.floatbank10_c_air',\n",
       " 'rougher.state.floatbank10_c_level',\n",
       " 'rougher.state.floatbank10_d_air',\n",
       " 'rougher.state.floatbank10_d_level',\n",
       " 'rougher.state.floatbank10_e_air',\n",
       " 'rougher.state.floatbank10_e_level',\n",
       " 'rougher.state.floatbank10_f_air',\n",
       " 'rougher.state.floatbank10_f_level',\n",
       " 'secondary_cleaner.state.floatbank2_a_air',\n",
       " 'secondary_cleaner.state.floatbank2_a_level',\n",
       " 'secondary_cleaner.state.floatbank2_b_air',\n",
       " 'secondary_cleaner.state.floatbank2_b_level',\n",
       " 'secondary_cleaner.state.floatbank3_a_air',\n",
       " 'secondary_cleaner.state.floatbank3_a_level',\n",
       " 'secondary_cleaner.state.floatbank3_b_air',\n",
       " 'secondary_cleaner.state.floatbank3_b_level',\n",
       " 'secondary_cleaner.state.floatbank4_a_air',\n",
       " 'secondary_cleaner.state.floatbank4_a_level',\n",
       " 'secondary_cleaner.state.floatbank4_b_air',\n",
       " 'secondary_cleaner.state.floatbank4_b_level',\n",
       " 'secondary_cleaner.state.floatbank5_a_air',\n",
       " 'secondary_cleaner.state.floatbank5_a_level',\n",
       " 'secondary_cleaner.state.floatbank5_b_air',\n",
       " 'secondary_cleaner.state.floatbank5_b_level',\n",
       " 'secondary_cleaner.state.floatbank6_a_air',\n",
       " 'secondary_cleaner.state.floatbank6_a_level']"
      ]
     },
     "execution_count": 24,
     "metadata": {},
     "output_type": "execute_result"
    }
   ],
   "source": [
    "#Columns present in both datasets\n",
    "train_test_columns = list(set(data_train.columns).intersection(set(data_test.columns)))\n",
    "train_test_columns.sort()\n",
    "train_test_columns"
   ]
  },
  {
   "cell_type": "markdown",
   "metadata": {},
   "source": [
    "Here we have a list of all the features that are not present in the test data. A cursory analysis shows that many of these features are calculations or outputs of material which suggests later stage data after some sort of refinement. "
   ]
  },
  {
   "cell_type": "markdown",
   "metadata": {},
   "source": [
    "### Data Preprocessing"
   ]
  },
  {
   "cell_type": "code",
   "execution_count": 25,
   "metadata": {},
   "outputs": [],
   "source": [
    "data_train['date']=pd.to_datetime(data_train['date'])\n",
    "data_test['date']=pd.to_datetime(data_test['date'])"
   ]
  },
  {
   "cell_type": "markdown",
   "metadata": {},
   "source": [
    "## Analyze the data"
   ]
  },
  {
   "cell_type": "markdown",
   "metadata": {},
   "source": [
    "### Take note of how the concentrations of metals (Au, Ag, Pb) change depending on the purification stage."
   ]
  },
  {
   "cell_type": "code",
   "execution_count": 26,
   "metadata": {},
   "outputs": [],
   "source": [
    "au_columns = ['rougher.input.feed_au', 'rougher.output.concentrate_au', 'final.output.concentrate_au']\n",
    "ag_columns = ['rougher.input.feed_ag', 'rougher.output.concentrate_ag', 'final.output.concentrate_ag']\n",
    "pb_columns =['rougher.input.feed_pb', 'rougher.output.concentrate_pb', 'final.output.concentrate_pb']"
   ]
  },
  {
   "cell_type": "code",
   "execution_count": 27,
   "metadata": {
    "scrolled": true
   },
   "outputs": [
    {
     "data": {
      "image/png": "[encoded data removed]",
      "text/plain": [
       "<Figure size 1000x600 with 1 Axes>"
      ]
     },
     "metadata": {},
     "output_type": "display_data"
    }
   ],
   "source": [
    "plt.figure(figsize=(10, 6))\n",
    "data_train[au_columns].boxplot()\n",
    "plt.title(f'au Concentration at Different Stages')\n",
    "plt.ylabel('Concentration')\n",
    "plt.show()"
   ]
  },
  {
   "cell_type": "markdown",
   "metadata": {},
   "source": [
    "Concentration of au (Gold) increases consistently through each stage of the refinement process. The average concentration at the rougher.input stage is under 10 and in the final stage is over 40 which is in line with what we expect from this process. "
   ]
  },
  {
   "cell_type": "code",
   "execution_count": 28,
   "metadata": {},
   "outputs": [
    {
     "data": {
      "image/png": "[encoded data removed]",
      "text/plain": [
       "<Figure size 1000x600 with 1 Axes>"
      ]
     },
     "metadata": {},
     "output_type": "display_data"
    }
   ],
   "source": [
    "plt.figure(figsize=(10, 6))\n",
    "data_train[ag_columns].boxplot()\n",
    "plt.title(f'ag Concentration at Different Stages')\n",
    "plt.ylabel('Concentration')\n",
    "plt.show()"
   ]
  },
  {
   "cell_type": "markdown",
   "metadata": {},
   "source": [
    "Here we see the ag concentrations at each stage in the bar graph. There does seem to be an initial increase in the average concentration from the rougher.input stage to the rougher.output stage but a decline by the end of the process."
   ]
  },
  {
   "cell_type": "code",
   "execution_count": 29,
   "metadata": {},
   "outputs": [
    {
     "data": {
      "image/png": "[encoded data removed]",
      "text/plain": [
       "<Figure size 1000x600 with 1 Axes>"
      ]
     },
     "metadata": {},
     "output_type": "display_data"
    }
   ],
   "source": [
    "plt.figure(figsize=(10, 6))\n",
    "data_train[pb_columns].boxplot()\n",
    "plt.title(f'pb Concentration at Different Stages')\n",
    "plt.ylabel('Concentration')\n",
    "plt.show()"
   ]
  },
  {
   "cell_type": "markdown",
   "metadata": {},
   "source": [
    "Like au, pb concentrations increase through each phase of refinement. In the rougher.input stage we have an average pb concentration under 5 and in the final output it is over 10. "
   ]
  },
  {
   "cell_type": "markdown",
   "metadata": {},
   "source": [
    "### Compare Feed Particle Size Distribution"
   ]
  },
  {
   "cell_type": "code",
   "execution_count": 30,
   "metadata": {
    "scrolled": true
   },
   "outputs": [
    {
     "data": {
      "image/png": "[encoded data removed]",
      "text/plain": [
       "<Figure size 1000x500 with 1 Axes>"
      ]
     },
     "metadata": {},
     "output_type": "display_data"
    }
   ],
   "source": [
    "# Identify feed particle size columns\n",
    "feed_particle_columns = ['rougher.input.feed_size']\n",
    "\n",
    "for col in feed_particle_columns:\n",
    "    plt.figure(figsize=(10, 5))\n",
    "    sns.kdeplot(data_train[col], label='Train', shade=True)\n",
    "    sns.kdeplot(data_test[col], label='Test', shade=True)\n",
    "    plt.title(f'Distribution of Feed Particle Size')\n",
    "    plt.xlabel('Particle Size')\n",
    "    plt.ylabel('Density')\n",
    "    plt.legend()\n",
    "    plt.show()"
   ]
  },
  {
   "cell_type": "markdown",
   "metadata": {},
   "source": [
    "Here we see a distribution of particle feed sizes in our test and training datasets. While there do appear to be some differences in the distributions, they do not vary from each other significantly."
   ]
  },
  {
   "cell_type": "markdown",
   "metadata": {},
   "source": [
    "### Analyze Total Concentrations at Different Stages"
   ]
  },
  {
   "cell_type": "code",
   "execution_count": 31,
   "metadata": {
    "scrolled": true
   },
   "outputs": [
    {
     "data": {
      "image/png": "[encoded data removed]",
      "text/plain": [
       "<Figure size 1000x600 with 1 Axes>"
      ]
     },
     "metadata": {},
     "output_type": "display_data"
    }
   ],
   "source": [
    "# Calculate total concentration at different stages\n",
    "data_train['total_feed_concentration'] = data_train[['rougher.input.feed_au', 'rougher.input.feed_ag', 'rougher.input.feed_pb']].sum(axis=1)\n",
    "data_train['total_rougher_concentration'] = data_train[['rougher.output.concentrate_au', 'rougher.output.concentrate_ag', 'rougher.output.concentrate_pb']].sum(axis=1)\n",
    "data_train['total_final_concentration'] = data_train[['final.output.concentrate_au', 'final.output.concentrate_ag', 'final.output.concentrate_pb']].sum(axis=1)\n",
    "\n",
    "# Plotting distributions of total concentrations\n",
    "plt.figure(figsize=(10,6))\n",
    "data_train[['total_feed_concentration', 'total_rougher_concentration', 'total_final_concentration']].boxplot()\n",
    "plt.title('Total Concentration Distributions at Different Stages')\n",
    "plt.ylabel('Total Concentration')\n",
    "plt.show()\n",
    "\n",
    "# Identify and remove anomalies if necessary\n",
    "# For example: values beyond a certain threshold based on quantiles\n",
    "q_low = data_train['total_feed_concentration'].quantile(0.05)\n",
    "q_high = data_train['total_feed_concentration'].quantile(0.95)\n",
    "data_train_filtered= data_train[(data_train['total_feed_concentration'] > q_low) & (data_train['total_feed_concentration'] < q_high)]\n"
   ]
  },
  {
   "cell_type": "markdown",
   "metadata": {},
   "source": [
    "Here we see a distribution of total concentration of all substances across all stages. We notice a significant number of outliers that should be addressed in our data which we will filter out as to not affect our model accuracy. I decided to filter out the top 5% and bottom 5% of the data in total feed concentration. "
   ]
  },
  {
   "cell_type": "markdown",
   "metadata": {},
   "source": [
    "This is our final filtered data distribution without our top 5% and bottom 5% of results."
   ]
  },
  {
   "cell_type": "markdown",
   "metadata": {},
   "source": [
    "## Model Creation"
   ]
  },
  {
   "cell_type": "code",
   "execution_count": 32,
   "metadata": {},
   "outputs": [],
   "source": [
    "#Create target and features\n",
    "target = ['rougher.output.recovery', 'final.output.recovery']\n",
    "#features = train_test_columns[1:]"
   ]
  },
  {
   "cell_type": "code",
   "execution_count": 33,
   "metadata": {},
   "outputs": [],
   "source": [
    "features = np.asarray(train_test_columns[1:])\n",
    "idx = np.where(~np.isin(features,target))[0]\n",
    "features = features[idx].tolist()"
   ]
  },
  {
   "cell_type": "code",
   "execution_count": 34,
   "metadata": {
    "scrolled": true
   },
   "outputs": [],
   "source": [
    "#target = ['rougher.output.recovery', 'final.output.recovery']\n",
    "\n",
    "# Drop the target columns from the list\n",
    "#features = [column for column in train_test_columns if column not in target]\n",
    "\n",
    "#print(features)"
   ]
  },
  {
   "cell_type": "code",
   "execution_count": 35,
   "metadata": {},
   "outputs": [],
   "source": [
    "#Create X and y train and test datasets\n",
    "X_train, X_test = data_train[features].values, data_test[features].values\n",
    "y_train, y_test = data_train[target].values, data_test[target].values"
   ]
  },
  {
   "cell_type": "markdown",
   "metadata": {},
   "source": [
    "### Write sMAPE function"
   ]
  },
  {
   "cell_type": "code",
   "execution_count": 36,
   "metadata": {},
   "outputs": [],
   "source": [
    "# sMAPE calculation function\n",
    "def smape(y_true, y_pred, epsilon=1e-10):\n",
    "    # Debugging: Check shapes\n",
    "    print(f\"y_true shape: {y_true.shape}, y_pred shape: {y_pred.shape}\")\n",
    "    \n",
    "    if y_true.shape != y_pred.shape:\n",
    "        raise ValueError(f\"Shape of y_true {y_true.shape} and y_pred {y_pred.shape} must be the same.\")\n",
    "    \n",
    "    numerator = np.abs(y_pred - y_true)\n",
    "    denominator = (np.abs(y_true) + np.abs(y_pred)) / 2.0 + epsilon  # Adding epsilon to the denominator\n",
    "    # Avoid division by zero or NaN\n",
    "    valid_mask = (denominator != 0) & (~np.isnan(denominator))\n",
    "    if valid_mask.sum() == 0:\n",
    "        return 0  # Return 0 if all denominators are zero or NaN\n",
    "    smape = np.mean(np.where(valid_mask, numerator / denominator, 0)) * 100\n",
    "    return smape\n",
    "\n",
    "# Final sMAPE calculation function\n",
    "def final_smape(y_true, y_pred):\n",
    "    # Ensure y_true and y_pred have correct number of columns for indexing\n",
    "    if y_true.shape[1] < 2 or y_pred.shape[1] < 2:\n",
    "        raise ValueError(\"y_true and y_pred must have at least two columns for rougher and final outputs respectively.\")\n",
    "    \n",
    "    print(f\"Shapes in final_smape: y_true {y_true.shape}, y_pred {y_pred.shape}\")\n",
    "    \n",
    "    rougher_output = smape(y_true[:, 0], y_pred[:, 0])\n",
    "    final_output = smape(y_true[:, 1], y_pred[:, 1])\n",
    "    return 0.25 * rougher_output + 0.75 * final_output\n",
    "\n",
    "# Create sMAPE score for use in model tuning\n",
    "# negate the output to ensure it's always positive\n",
    "smape_score = make_scorer(final_smape, greater_is_better=False)"
   ]
  },
  {
   "cell_type": "markdown",
   "metadata": {},
   "source": [
    "### Create models"
   ]
  },
  {
   "cell_type": "code",
   "execution_count": 37,
   "metadata": {},
   "outputs": [
    {
     "name": "stdout",
     "output_type": "stream",
     "text": [
      "Fitting 3 folds for each of 2 candidates, totalling 6 fits\n",
      "Shapes in final_smape: y_true (3673, 2), y_pred (3673, 2)\n",
      "y_true shape: (3673,), y_pred shape: (3673,)\n",
      "y_true shape: (3673,), y_pred shape: (3673,)\n",
      "[CV] END max_depth=20, min_samples_leaf=4, min_samples_split=6, n_estimators=64; total time=  17.4s\n",
      "Shapes in final_smape: y_true (3672, 2), y_pred (3672, 2)\n",
      "y_true shape: (3672,), y_pred shape: (3672,)\n",
      "y_true shape: (3672,), y_pred shape: (3672,)\n",
      "[CV] END max_depth=20, min_samples_leaf=4, min_samples_split=6, n_estimators=64; total time=  15.4s\n",
      "Shapes in final_smape: y_true (3672, 2), y_pred (3672, 2)\n",
      "y_true shape: (3672,), y_pred shape: (3672,)\n",
      "y_true shape: (3672,), y_pred shape: (3672,)\n",
      "[CV] END max_depth=20, min_samples_leaf=4, min_samples_split=6, n_estimators=64; total time=  16.6s\n",
      "Shapes in final_smape: y_true (3673, 2), y_pred (3673, 2)\n",
      "y_true shape: (3673,), y_pred shape: (3673,)\n",
      "y_true shape: (3673,), y_pred shape: (3673,)\n",
      "[CV] END max_depth=20, min_samples_leaf=4, min_samples_split=6, n_estimators=70; total time=  19.0s\n",
      "Shapes in final_smape: y_true (3672, 2), y_pred (3672, 2)\n",
      "y_true shape: (3672,), y_pred shape: (3672,)\n",
      "y_true shape: (3672,), y_pred shape: (3672,)\n",
      "[CV] END max_depth=20, min_samples_leaf=4, min_samples_split=6, n_estimators=70; total time=  16.9s\n",
      "Shapes in final_smape: y_true (3672, 2), y_pred (3672, 2)\n",
      "y_true shape: (3672,), y_pred shape: (3672,)\n",
      "y_true shape: (3672,), y_pred shape: (3672,)\n",
      "[CV] END max_depth=20, min_samples_leaf=4, min_samples_split=6, n_estimators=70; total time=  18.1s\n",
      "Shapes in final_smape: y_true (2204, 2), y_pred (2204, 2)\n",
      "y_true shape: (2204,), y_pred shape: (2204,)\n",
      "y_true shape: (2204,), y_pred shape: (2204,)\n",
      "Shapes in final_smape: y_true (2204, 2), y_pred (2204, 2)\n",
      "y_true shape: (2204,), y_pred shape: (2204,)\n",
      "y_true shape: (2204,), y_pred shape: (2204,)\n",
      "Shapes in final_smape: y_true (2203, 2), y_pred (2203, 2)\n",
      "y_true shape: (2203,), y_pred shape: (2203,)\n",
      "y_true shape: (2203,), y_pred shape: (2203,)\n",
      "Shapes in final_smape: y_true (2203, 2), y_pred (2203, 2)\n",
      "y_true shape: (2203,), y_pred shape: (2203,)\n",
      "y_true shape: (2203,), y_pred shape: (2203,)\n",
      "Shapes in final_smape: y_true (2203, 2), y_pred (2203, 2)\n",
      "y_true shape: (2203,), y_pred shape: (2203,)\n",
      "y_true shape: (2203,), y_pred shape: (2203,)\n",
      "LinearRegression Final sMAPE: -10.29089672827656\n",
      "Shapes in final_smape: y_true (2204, 2), y_pred (2204, 2)\n",
      "y_true shape: (2204,), y_pred shape: (2204,)\n",
      "y_true shape: (2204,), y_pred shape: (2204,)\n",
      "Shapes in final_smape: y_true (2204, 2), y_pred (2204, 2)\n",
      "y_true shape: (2204,), y_pred shape: (2204,)\n",
      "y_true shape: (2204,), y_pred shape: (2204,)\n",
      "Shapes in final_smape: y_true (2203, 2), y_pred (2203, 2)\n",
      "y_true shape: (2203,), y_pred shape: (2203,)\n",
      "y_true shape: (2203,), y_pred shape: (2203,)\n",
      "Shapes in final_smape: y_true (2203, 2), y_pred (2203, 2)\n",
      "y_true shape: (2203,), y_pred shape: (2203,)\n",
      "y_true shape: (2203,), y_pred shape: (2203,)\n",
      "Shapes in final_smape: y_true (2203, 2), y_pred (2203, 2)\n",
      "y_true shape: (2203,), y_pred shape: (2203,)\n",
      "y_true shape: (2203,), y_pred shape: (2203,)\n",
      "RandomForestRegressor Final sMAPE: -10.22764021161923\n"
     ]
    }
   ],
   "source": [
    "from sklearn.model_selection import RandomizedSearchCV\n",
    "from sklearn.ensemble import RandomForestRegressor\n",
    "from sklearn.linear_model import LinearRegression\n",
    "import scipy.stats\n",
    "\n",
    "# Define the parameter distributions for RandomForestRegressor\n",
    "param_dist = {\n",
    "    'n_estimators': scipy.stats.randint(50, 200),\n",
    "    'max_depth': [None, 10, 20],\n",
    "    'min_samples_split': scipy.stats.randint(2, 10),\n",
    "    'min_samples_leaf': scipy.stats.randint(1, 5)\n",
    "}\n",
    "\n",
    "# Initialize the model\n",
    "rf = RandomForestRegressor(random_state=42)\n",
    "\n",
    "# Initialize RandomizedSearchCV with sMAPE as the scoring metric and fewer iterations\n",
    "random_search = RandomizedSearchCV(estimator=rf, param_distributions=param_dist,\n",
    "                                   scoring=smape_score, cv=3, n_iter=2, verbose=2,\n",
    "                                   n_jobs=-1, random_state=42)\n",
    "\n",
    "# Fit RandomizedSearchCV to find the best hyperparameters\n",
    "random_search.fit(X_train, y_train)\n",
    "\n",
    "# Get the best model from RandomizedSearchCV\n",
    "best_rf = random_search.best_estimator_\n",
    "\n",
    "# Now, you can include the best_rf in your models list along with other models\n",
    "models = [\n",
    "    LinearRegression(),\n",
    "    best_rf  # Use the best hyperparameter-tuned RandomForest\n",
    "]\n",
    "\n",
    "# Cross-validate models with final smape scoring\n",
    "for model in models:\n",
    "    model_name = model.__class__.__name__\n",
    "    cv_scores = cross_val_score(model, X_train, y_train, cv=5, scoring=smape_score)\n",
    "    print(f'{model_name} Final sMAPE: {cv_scores.mean()}')\n",
    "\n"
   ]
  },
  {
   "cell_type": "code",
   "execution_count": 38,
   "metadata": {},
   "outputs": [
    {
     "name": "stdout",
     "output_type": "stream",
     "text": [
      "Shapes in final_smape: y_true (5856, 2), y_pred (5856, 2)\n",
      "y_true shape: (5856,), y_pred shape: (5856,)\n",
      "y_true shape: (5856,), y_pred shape: (5856,)\n",
      "Best RF Final sMAPE on Test Set: 9.226486567648793\n"
     ]
    }
   ],
   "source": [
    "rf_prediction= best_rf.predict(X_test)\n",
    "\n",
    "final_smape_rf = final_smape(y_test, rf_prediction)\n",
    "\n",
    "print(f'Best RF Final sMAPE on Test Set: {final_smape_rf}')"
   ]
  },
  {
   "cell_type": "code",
   "execution_count": 39,
   "metadata": {},
   "outputs": [
    {
     "name": "stdout",
     "output_type": "stream",
     "text": [
      "Shapes in final_smape: y_true (5856, 2), y_pred (5856, 2)\n",
      "y_true shape: (5856,), y_pred shape: (5856,)\n",
      "y_true shape: (5856,), y_pred shape: (5856,)\n",
      "Dummy Regressor Final sMAPE on Test Set: 10.00136818872465\n"
     ]
    }
   ],
   "source": [
    "#Check against baseline dummy regressor\n",
    "\n",
    "dummy_reg = DummyRegressor(strategy='mean')\n",
    "\n",
    "dummy_reg.fit(X_train, y_train)\n",
    "dummy_pred = dummy_reg.predict(X_test)\n",
    "\n",
    "final_smape_dummy = final_smape(y_test, dummy_pred)\n",
    "\n",
    "print(f'Dummy Regressor Final sMAPE on Test Set: {final_smape_dummy}')"
   ]
  },
  {
   "cell_type": "markdown",
   "metadata": {},
   "source": [
    "# Conclusion"
   ]
  },
  {
   "cell_type": "markdown",
   "metadata": {},
   "source": [
    "Here we see that our random forrest model had the best cross validation final sMAPE score before fitting. We used this model against our dummy regressor baseline. The final sMAPE was minimally better than the Dummy Regressor score.\n",
    "\n",
    "During this project we:\n",
    "1. Prepared and analyzed three sets of data\n",
    "2. Looked at particle size distribution across different stages of refinement\n",
    "3. Created ML model to determine sMAPE scores for our data and used it to determine which model best predicted our results"
   ]
  },
  {
   "cell_type": "code",
   "execution_count": null,
   "metadata": {},
   "outputs": [],
   "source": []
  }
 ],
 "metadata": {
  "ExecuteTimeLog": [
   {
    "duration": 471,
    "start_time": "2024-08-21T15:24:26.876Z"
   },
   {
    "duration": 375,
    "start_time": "2024-08-21T15:25:17.255Z"
   },
   {
    "duration": 675,
    "start_time": "2024-08-21T15:26:34.011Z"
   },
   {
    "duration": 930,
    "start_time": "2024-08-21T15:26:44.153Z"
   },
   {
    "duration": 42,
    "start_time": "2024-08-21T15:27:26.763Z"
   },
   {
    "duration": 31,
    "start_time": "2024-08-21T15:27:54.898Z"
   },
   {
    "duration": 97,
    "start_time": "2024-08-21T15:28:36.798Z"
   },
   {
    "duration": 11,
    "start_time": "2024-08-21T15:28:49.573Z"
   },
   {
    "duration": 34,
    "start_time": "2024-08-21T15:29:00.126Z"
   },
   {
    "duration": 13,
    "start_time": "2024-08-21T15:29:07.441Z"
   },
   {
    "duration": 12,
    "start_time": "2024-08-21T15:30:59.114Z"
   },
   {
    "duration": 27,
    "start_time": "2024-08-21T15:57:49.993Z"
   },
   {
    "duration": 18,
    "start_time": "2024-08-21T15:58:01.561Z"
   },
   {
    "duration": 32,
    "start_time": "2024-08-21T15:58:24.453Z"
   },
   {
    "duration": 32,
    "start_time": "2024-08-21T15:58:34.860Z"
   },
   {
    "duration": 9,
    "start_time": "2024-08-21T15:58:50.990Z"
   },
   {
    "duration": 29,
    "start_time": "2024-08-21T15:59:23.981Z"
   },
   {
    "duration": 24,
    "start_time": "2024-08-21T15:59:33.742Z"
   },
   {
    "duration": 148,
    "start_time": "2024-08-21T15:59:48.532Z"
   },
   {
    "duration": 13,
    "start_time": "2024-08-21T16:00:02.429Z"
   },
   {
    "duration": 843,
    "start_time": "2024-08-21T16:11:26.233Z"
   },
   {
    "duration": 965,
    "start_time": "2024-08-21T16:11:27.367Z"
   },
   {
    "duration": 31,
    "start_time": "2024-08-21T16:11:28.336Z"
   },
   {
    "duration": 27,
    "start_time": "2024-08-21T16:11:28.778Z"
   },
   {
    "duration": 105,
    "start_time": "2024-08-21T16:11:29.356Z"
   },
   {
    "duration": 11,
    "start_time": "2024-08-21T16:11:30.100Z"
   },
   {
    "duration": 26,
    "start_time": "2024-08-21T16:11:30.595Z"
   },
   {
    "duration": 17,
    "start_time": "2024-08-21T16:11:30.976Z"
   },
   {
    "duration": 35,
    "start_time": "2024-08-21T16:11:31.240Z"
   },
   {
    "duration": 11,
    "start_time": "2024-08-21T16:11:31.430Z"
   },
   {
    "duration": 36,
    "start_time": "2024-08-21T16:11:31.797Z"
   },
   {
    "duration": 23,
    "start_time": "2024-08-21T16:11:32.007Z"
   },
   {
    "duration": 181,
    "start_time": "2024-08-21T16:11:32.191Z"
   },
   {
    "duration": 16,
    "start_time": "2024-08-21T16:11:32.790Z"
   },
   {
    "duration": 4,
    "start_time": "2024-08-21T16:12:47.575Z"
   },
   {
    "duration": 343,
    "start_time": "2024-08-21T16:14:15.028Z"
   },
   {
    "duration": 4235,
    "start_time": "2024-08-21T16:18:27.473Z"
   },
   {
    "duration": 915,
    "start_time": "2024-08-21T16:19:35.778Z"
   },
   {
    "duration": 311,
    "start_time": "2024-08-21T16:19:50.729Z"
   },
   {
    "duration": 5,
    "start_time": "2024-08-21T16:28:30.398Z"
   },
   {
    "duration": 49,
    "start_time": "2024-08-21T16:30:57.993Z"
   },
   {
    "duration": 1978,
    "start_time": "2024-08-21T16:31:29.489Z"
   },
   {
    "duration": 1037,
    "start_time": "2024-08-21T16:31:31.471Z"
   },
   {
    "duration": 41,
    "start_time": "2024-08-21T16:31:32.512Z"
   },
   {
    "duration": 54,
    "start_time": "2024-08-21T16:31:32.559Z"
   },
   {
    "duration": 152,
    "start_time": "2024-08-21T16:31:32.616Z"
   },
   {
    "duration": 14,
    "start_time": "2024-08-21T16:31:32.773Z"
   },
   {
    "duration": 59,
    "start_time": "2024-08-21T16:31:32.790Z"
   },
   {
    "duration": 35,
    "start_time": "2024-08-21T16:31:32.854Z"
   },
   {
    "duration": 50,
    "start_time": "2024-08-21T16:31:32.900Z"
   },
   {
    "duration": 13,
    "start_time": "2024-08-21T16:31:32.956Z"
   },
   {
    "duration": 49,
    "start_time": "2024-08-21T16:31:32.975Z"
   },
   {
    "duration": 33,
    "start_time": "2024-08-21T16:31:33.028Z"
   },
   {
    "duration": 222,
    "start_time": "2024-08-21T16:31:33.064Z"
   },
   {
    "duration": 22,
    "start_time": "2024-08-21T16:31:33.289Z"
   },
   {
    "duration": 453,
    "start_time": "2024-08-21T16:31:33.314Z"
   },
   {
    "duration": 624,
    "start_time": "2024-08-21T16:31:33.778Z"
   },
   {
    "duration": 0,
    "start_time": "2024-08-21T16:31:34.414Z"
   },
   {
    "duration": 17,
    "start_time": "2024-08-21T16:32:31.760Z"
   },
   {
    "duration": 9,
    "start_time": "2024-08-21T16:33:17.490Z"
   },
   {
    "duration": 22,
    "start_time": "2024-08-21T16:35:28.537Z"
   },
   {
    "duration": 9,
    "start_time": "2024-08-21T16:36:00.456Z"
   },
   {
    "duration": 46,
    "start_time": "2024-08-21T16:36:24.698Z"
   },
   {
    "duration": 5,
    "start_time": "2024-08-21T16:36:43.330Z"
   },
   {
    "duration": 10,
    "start_time": "2024-08-21T16:36:53.467Z"
   },
   {
    "duration": 13,
    "start_time": "2024-08-21T16:38:30.123Z"
   },
   {
    "duration": 12,
    "start_time": "2024-08-21T16:38:53.369Z"
   },
   {
    "duration": 11,
    "start_time": "2024-08-21T16:39:15.563Z"
   },
   {
    "duration": 11,
    "start_time": "2024-08-21T16:40:47.666Z"
   },
   {
    "duration": 13,
    "start_time": "2024-08-21T16:40:58.059Z"
   },
   {
    "duration": 9,
    "start_time": "2024-08-21T16:43:09.569Z"
   },
   {
    "duration": 10,
    "start_time": "2024-08-21T16:43:23.980Z"
   },
   {
    "duration": 7,
    "start_time": "2024-08-21T16:43:47.740Z"
   },
   {
    "duration": 4,
    "start_time": "2024-08-21T22:13:34.688Z"
   },
   {
    "duration": 310,
    "start_time": "2024-08-21T22:14:28.560Z"
   },
   {
    "duration": 22,
    "start_time": "2024-08-21T22:15:07.755Z"
   },
   {
    "duration": 5108,
    "start_time": "2024-08-21T22:15:19.010Z"
   },
   {
    "duration": 925,
    "start_time": "2024-08-21T22:15:24.121Z"
   },
   {
    "duration": 32,
    "start_time": "2024-08-21T22:15:25.048Z"
   },
   {
    "duration": 25,
    "start_time": "2024-08-21T22:15:25.085Z"
   },
   {
    "duration": 121,
    "start_time": "2024-08-21T22:15:25.136Z"
   },
   {
    "duration": 13,
    "start_time": "2024-08-21T22:15:25.259Z"
   },
   {
    "duration": 29,
    "start_time": "2024-08-21T22:15:25.274Z"
   },
   {
    "duration": 18,
    "start_time": "2024-08-21T22:15:25.334Z"
   },
   {
    "duration": 33,
    "start_time": "2024-08-21T22:15:25.355Z"
   },
   {
    "duration": 42,
    "start_time": "2024-08-21T22:15:25.393Z"
   },
   {
    "duration": 27,
    "start_time": "2024-08-21T22:15:25.438Z"
   },
   {
    "duration": 23,
    "start_time": "2024-08-21T22:15:25.468Z"
   },
   {
    "duration": 175,
    "start_time": "2024-08-21T22:15:25.494Z"
   },
   {
    "duration": 12,
    "start_time": "2024-08-21T22:15:25.672Z"
   },
   {
    "duration": 337,
    "start_time": "2024-08-21T22:15:25.687Z"
   },
   {
    "duration": 17,
    "start_time": "2024-08-21T22:15:26.027Z"
   },
   {
    "duration": 8,
    "start_time": "2024-08-21T22:15:26.048Z"
   },
   {
    "duration": 9,
    "start_time": "2024-08-21T22:15:26.059Z"
   },
   {
    "duration": 6,
    "start_time": "2024-08-21T22:15:26.072Z"
   },
   {
    "duration": 53,
    "start_time": "2024-08-21T22:15:26.081Z"
   },
   {
    "duration": 682,
    "start_time": "2024-08-21T22:19:18.583Z"
   },
   {
    "duration": 304,
    "start_time": "2024-08-21T22:19:51.868Z"
   },
   {
    "duration": 9,
    "start_time": "2024-08-21T22:22:39.969Z"
   },
   {
    "duration": 11,
    "start_time": "2024-08-21T22:23:10.435Z"
   },
   {
    "duration": 299,
    "start_time": "2024-08-21T22:25:46.755Z"
   },
   {
    "duration": 1502,
    "start_time": "2024-08-21T22:26:26.370Z"
   },
   {
    "duration": 799,
    "start_time": "2024-08-21T22:26:27.876Z"
   },
   {
    "duration": 32,
    "start_time": "2024-08-21T22:26:28.678Z"
   },
   {
    "duration": 35,
    "start_time": "2024-08-21T22:26:28.715Z"
   },
   {
    "duration": 125,
    "start_time": "2024-08-21T22:26:28.754Z"
   },
   {
    "duration": 12,
    "start_time": "2024-08-21T22:26:28.882Z"
   },
   {
    "duration": 48,
    "start_time": "2024-08-21T22:26:28.897Z"
   },
   {
    "duration": 19,
    "start_time": "2024-08-21T22:26:28.948Z"
   },
   {
    "duration": 31,
    "start_time": "2024-08-21T22:26:28.972Z"
   },
   {
    "duration": 10,
    "start_time": "2024-08-21T22:26:29.034Z"
   },
   {
    "duration": 28,
    "start_time": "2024-08-21T22:26:29.047Z"
   },
   {
    "duration": 58,
    "start_time": "2024-08-21T22:26:29.078Z"
   },
   {
    "duration": 156,
    "start_time": "2024-08-21T22:26:29.138Z"
   },
   {
    "duration": 12,
    "start_time": "2024-08-21T22:26:29.297Z"
   },
   {
    "duration": 346,
    "start_time": "2024-08-21T22:26:29.315Z"
   },
   {
    "duration": 12,
    "start_time": "2024-08-21T22:26:29.664Z"
   },
   {
    "duration": 8,
    "start_time": "2024-08-21T22:26:29.679Z"
   },
   {
    "duration": 8,
    "start_time": "2024-08-21T22:26:29.690Z"
   },
   {
    "duration": 38,
    "start_time": "2024-08-21T22:26:29.701Z"
   },
   {
    "duration": 7,
    "start_time": "2024-08-21T22:26:29.742Z"
   },
   {
    "duration": 14,
    "start_time": "2024-08-21T22:26:29.752Z"
   },
   {
    "duration": 536,
    "start_time": "2024-08-21T22:26:29.769Z"
   },
   {
    "duration": 19,
    "start_time": "2024-08-21T22:26:52.499Z"
   },
   {
    "duration": 11,
    "start_time": "2024-08-21T22:27:14.150Z"
   },
   {
    "duration": 22,
    "start_time": "2024-08-21T22:27:15.701Z"
   },
   {
    "duration": 970,
    "start_time": "2024-08-21T22:27:21.768Z"
   },
   {
    "duration": 652,
    "start_time": "2024-08-21T22:28:20.467Z"
   },
   {
    "duration": 157,
    "start_time": "2024-08-21T22:29:55.305Z"
   },
   {
    "duration": 91,
    "start_time": "2024-08-21T22:30:33.395Z"
   },
   {
    "duration": 1613,
    "start_time": "2024-08-21T22:48:29.734Z"
   },
   {
    "duration": 819,
    "start_time": "2024-08-21T22:48:31.351Z"
   },
   {
    "duration": 35,
    "start_time": "2024-08-21T22:48:32.173Z"
   },
   {
    "duration": 39,
    "start_time": "2024-08-21T22:48:32.213Z"
   },
   {
    "duration": 122,
    "start_time": "2024-08-21T22:48:32.256Z"
   },
   {
    "duration": 14,
    "start_time": "2024-08-21T22:48:32.382Z"
   },
   {
    "duration": 51,
    "start_time": "2024-08-21T22:48:32.399Z"
   },
   {
    "duration": 21,
    "start_time": "2024-08-21T22:48:32.453Z"
   },
   {
    "duration": 60,
    "start_time": "2024-08-21T22:48:32.477Z"
   },
   {
    "duration": 11,
    "start_time": "2024-08-21T22:48:32.543Z"
   },
   {
    "duration": 28,
    "start_time": "2024-08-21T22:48:32.557Z"
   },
   {
    "duration": 61,
    "start_time": "2024-08-21T22:48:32.588Z"
   },
   {
    "duration": 160,
    "start_time": "2024-08-21T22:48:32.652Z"
   },
   {
    "duration": 30,
    "start_time": "2024-08-21T22:48:32.815Z"
   },
   {
    "duration": 342,
    "start_time": "2024-08-21T22:48:32.851Z"
   },
   {
    "duration": 13,
    "start_time": "2024-08-21T22:48:33.196Z"
   },
   {
    "duration": 26,
    "start_time": "2024-08-21T22:48:33.213Z"
   },
   {
    "duration": 11,
    "start_time": "2024-08-21T22:48:33.242Z"
   },
   {
    "duration": 7,
    "start_time": "2024-08-21T22:48:33.256Z"
   },
   {
    "duration": 6,
    "start_time": "2024-08-21T22:48:33.268Z"
   },
   {
    "duration": 14,
    "start_time": "2024-08-21T22:48:33.278Z"
   },
   {
    "duration": 110,
    "start_time": "2024-08-21T22:48:33.333Z"
   },
   {
    "duration": 425,
    "start_time": "2024-08-21T22:52:01.028Z"
   },
   {
    "duration": 13,
    "start_time": "2024-08-21T22:52:27.999Z"
   },
   {
    "duration": 1740,
    "start_time": "2024-08-21T22:52:34.539Z"
   },
   {
    "duration": 926,
    "start_time": "2024-08-21T22:52:36.284Z"
   },
   {
    "duration": 47,
    "start_time": "2024-08-21T22:52:37.213Z"
   },
   {
    "duration": 26,
    "start_time": "2024-08-21T22:52:37.266Z"
   },
   {
    "duration": 141,
    "start_time": "2024-08-21T22:52:37.295Z"
   },
   {
    "duration": 15,
    "start_time": "2024-08-21T22:52:37.442Z"
   },
   {
    "duration": 39,
    "start_time": "2024-08-21T22:52:37.460Z"
   },
   {
    "duration": 42,
    "start_time": "2024-08-21T22:52:37.502Z"
   },
   {
    "duration": 38,
    "start_time": "2024-08-21T22:52:37.551Z"
   },
   {
    "duration": 39,
    "start_time": "2024-08-21T22:52:37.595Z"
   },
   {
    "duration": 45,
    "start_time": "2024-08-21T22:52:37.641Z"
   },
   {
    "duration": 39,
    "start_time": "2024-08-21T22:52:37.691Z"
   },
   {
    "duration": 203,
    "start_time": "2024-08-21T22:52:37.737Z"
   },
   {
    "duration": 17,
    "start_time": "2024-08-21T22:52:37.949Z"
   },
   {
    "duration": 395,
    "start_time": "2024-08-21T22:52:37.969Z"
   },
   {
    "duration": 15,
    "start_time": "2024-08-21T22:52:38.367Z"
   },
   {
    "duration": 8,
    "start_time": "2024-08-21T22:52:38.389Z"
   },
   {
    "duration": 11,
    "start_time": "2024-08-21T22:52:38.400Z"
   },
   {
    "duration": 8,
    "start_time": "2024-08-21T22:52:38.436Z"
   },
   {
    "duration": 6,
    "start_time": "2024-08-21T22:52:38.448Z"
   },
   {
    "duration": 17,
    "start_time": "2024-08-21T22:52:38.458Z"
   },
   {
    "duration": 624,
    "start_time": "2024-08-21T22:52:38.479Z"
   },
   {
    "duration": 0,
    "start_time": "2024-08-21T22:52:39.107Z"
   },
   {
    "duration": 0,
    "start_time": "2024-08-21T22:52:39.109Z"
   },
   {
    "duration": 5,
    "start_time": "2024-08-21T22:53:03.558Z"
   },
   {
    "duration": 721,
    "start_time": "2024-08-21T22:53:13.261Z"
   },
   {
    "duration": 53,
    "start_time": "2024-08-21T22:53:41.625Z"
   },
   {
    "duration": 152,
    "start_time": "2024-08-21T22:55:20.001Z"
   },
   {
    "duration": 741,
    "start_time": "2024-08-21T23:01:34.131Z"
   },
   {
    "duration": 1642,
    "start_time": "2024-08-21T23:40:27.731Z"
   },
   {
    "duration": 857,
    "start_time": "2024-08-21T23:40:29.377Z"
   },
   {
    "duration": 37,
    "start_time": "2024-08-21T23:40:30.237Z"
   },
   {
    "duration": 28,
    "start_time": "2024-08-21T23:40:30.278Z"
   },
   {
    "duration": 120,
    "start_time": "2024-08-21T23:40:30.333Z"
   },
   {
    "duration": 14,
    "start_time": "2024-08-21T23:40:30.457Z"
   },
   {
    "duration": 31,
    "start_time": "2024-08-21T23:40:30.474Z"
   },
   {
    "duration": 22,
    "start_time": "2024-08-21T23:40:30.535Z"
   },
   {
    "duration": 34,
    "start_time": "2024-08-21T23:40:30.561Z"
   },
   {
    "duration": 40,
    "start_time": "2024-08-21T23:40:30.603Z"
   },
   {
    "duration": 35,
    "start_time": "2024-08-21T23:40:30.646Z"
   },
   {
    "duration": 60,
    "start_time": "2024-08-21T23:40:30.684Z"
   },
   {
    "duration": 179,
    "start_time": "2024-08-21T23:40:30.747Z"
   },
   {
    "duration": 22,
    "start_time": "2024-08-21T23:40:30.928Z"
   },
   {
    "duration": 324,
    "start_time": "2024-08-21T23:40:30.952Z"
   },
   {
    "duration": 14,
    "start_time": "2024-08-21T23:40:31.280Z"
   },
   {
    "duration": 8,
    "start_time": "2024-08-21T23:40:31.298Z"
   },
   {
    "duration": 10,
    "start_time": "2024-08-21T23:40:31.336Z"
   },
   {
    "duration": 6,
    "start_time": "2024-08-21T23:40:31.350Z"
   },
   {
    "duration": 8,
    "start_time": "2024-08-21T23:40:31.359Z"
   },
   {
    "duration": 14,
    "start_time": "2024-08-21T23:40:31.371Z"
   },
   {
    "duration": 821,
    "start_time": "2024-08-21T23:40:31.388Z"
   },
   {
    "duration": 4,
    "start_time": "2024-08-21T23:41:16.568Z"
   },
   {
    "duration": 7,
    "start_time": "2024-08-21T23:41:59.103Z"
   },
   {
    "duration": 8,
    "start_time": "2024-08-21T23:42:20.156Z"
   },
   {
    "duration": 283,
    "start_time": "2024-08-21T23:42:35.053Z"
   },
   {
    "duration": 508,
    "start_time": "2024-08-21T23:45:46.972Z"
   },
   {
    "duration": 450,
    "start_time": "2024-08-21T23:48:38.219Z"
   },
   {
    "duration": 873,
    "start_time": "2024-08-21T23:49:21.384Z"
   },
   {
    "duration": 24,
    "start_time": "2024-08-21T23:49:49.742Z"
   },
   {
    "duration": 4,
    "start_time": "2024-08-21T23:49:58.559Z"
   },
   {
    "duration": 275,
    "start_time": "2024-08-21T23:49:59.178Z"
   },
   {
    "duration": 376,
    "start_time": "2024-08-21T23:50:22.259Z"
   },
   {
    "duration": 261,
    "start_time": "2024-08-21T23:50:45.546Z"
   },
   {
    "duration": 283,
    "start_time": "2024-08-21T23:50:46.340Z"
   },
   {
    "duration": 321,
    "start_time": "2024-08-21T23:53:53.286Z"
   },
   {
    "duration": 327,
    "start_time": "2024-08-21T23:54:03.932Z"
   },
   {
    "duration": 300,
    "start_time": "2024-08-21T23:54:14.221Z"
   },
   {
    "duration": 649,
    "start_time": "2024-08-22T01:54:30.388Z"
   },
   {
    "duration": 684,
    "start_time": "2024-08-22T01:55:03.888Z"
   },
   {
    "duration": 28,
    "start_time": "2024-08-22T01:58:15.518Z"
   },
   {
    "duration": 288,
    "start_time": "2024-08-22T01:59:45.609Z"
   },
   {
    "duration": 38,
    "start_time": "2024-08-22T02:00:25.009Z"
   },
   {
    "duration": 313,
    "start_time": "2024-08-22T02:01:04.453Z"
   },
   {
    "duration": 345,
    "start_time": "2024-08-22T02:01:29.954Z"
   },
   {
    "duration": 333,
    "start_time": "2024-08-22T02:01:41.606Z"
   },
   {
    "duration": 283,
    "start_time": "2024-08-22T02:04:31.969Z"
   },
   {
    "duration": 282,
    "start_time": "2024-08-22T02:05:04.785Z"
   },
   {
    "duration": 329,
    "start_time": "2024-08-23T13:43:04.838Z"
   },
   {
    "duration": 5161,
    "start_time": "2024-08-23T13:43:13.026Z"
   },
   {
    "duration": 979,
    "start_time": "2024-08-23T13:43:18.191Z"
   },
   {
    "duration": 41,
    "start_time": "2024-08-23T13:43:19.173Z"
   },
   {
    "duration": 29,
    "start_time": "2024-08-23T13:43:19.218Z"
   },
   {
    "duration": 132,
    "start_time": "2024-08-23T13:43:19.251Z"
   },
   {
    "duration": 20,
    "start_time": "2024-08-23T13:43:19.387Z"
   },
   {
    "duration": 31,
    "start_time": "2024-08-23T13:43:19.411Z"
   },
   {
    "duration": 18,
    "start_time": "2024-08-23T13:43:19.445Z"
   },
   {
    "duration": 65,
    "start_time": "2024-08-23T13:43:19.466Z"
   },
   {
    "duration": 9,
    "start_time": "2024-08-23T13:43:19.537Z"
   },
   {
    "duration": 60,
    "start_time": "2024-08-23T13:43:19.549Z"
   },
   {
    "duration": 24,
    "start_time": "2024-08-23T13:43:19.611Z"
   },
   {
    "duration": 169,
    "start_time": "2024-08-23T13:43:19.638Z"
   },
   {
    "duration": 12,
    "start_time": "2024-08-23T13:43:19.810Z"
   },
   {
    "duration": 333,
    "start_time": "2024-08-23T13:43:19.825Z"
   },
   {
    "duration": 13,
    "start_time": "2024-08-23T13:43:20.162Z"
   },
   {
    "duration": 27,
    "start_time": "2024-08-23T13:43:20.178Z"
   },
   {
    "duration": 10,
    "start_time": "2024-08-23T13:43:20.208Z"
   },
   {
    "duration": 6,
    "start_time": "2024-08-23T13:43:20.221Z"
   },
   {
    "duration": 6,
    "start_time": "2024-08-23T13:43:20.230Z"
   },
   {
    "duration": 61,
    "start_time": "2024-08-23T13:43:20.241Z"
   },
   {
    "duration": 751,
    "start_time": "2024-08-23T13:43:20.305Z"
   },
   {
    "duration": 4,
    "start_time": "2024-08-23T13:43:21.059Z"
   },
   {
    "duration": 310,
    "start_time": "2024-08-23T13:43:21.067Z"
   },
   {
    "duration": 366,
    "start_time": "2024-08-23T13:43:21.380Z"
   },
   {
    "duration": 310,
    "start_time": "2024-08-23T13:43:21.750Z"
   },
   {
    "duration": 676,
    "start_time": "2024-08-23T13:43:22.064Z"
   },
   {
    "duration": 368,
    "start_time": "2024-08-23T13:43:22.747Z"
   },
   {
    "duration": 298,
    "start_time": "2024-08-23T13:43:23.118Z"
   },
   {
    "duration": 752,
    "start_time": "2024-08-23T13:52:51.455Z"
   },
   {
    "duration": 2659,
    "start_time": "2024-08-28T14:21:10.558Z"
   },
   {
    "duration": 740,
    "start_time": "2024-08-28T14:21:13.220Z"
   },
   {
    "duration": 18,
    "start_time": "2024-08-28T14:21:13.962Z"
   },
   {
    "duration": 13,
    "start_time": "2024-08-28T14:21:13.988Z"
   },
   {
    "duration": 63,
    "start_time": "2024-08-28T14:21:14.003Z"
   },
   {
    "duration": 24,
    "start_time": "2024-08-28T14:21:14.067Z"
   },
   {
    "duration": 22,
    "start_time": "2024-08-28T14:21:14.093Z"
   },
   {
    "duration": 12,
    "start_time": "2024-08-28T14:21:14.116Z"
   },
   {
    "duration": 22,
    "start_time": "2024-08-28T14:21:14.130Z"
   },
   {
    "duration": 6,
    "start_time": "2024-08-28T14:21:14.157Z"
   },
   {
    "duration": 14,
    "start_time": "2024-08-28T14:21:14.186Z"
   },
   {
    "duration": 13,
    "start_time": "2024-08-28T14:21:14.202Z"
   },
   {
    "duration": 104,
    "start_time": "2024-08-28T14:21:14.217Z"
   },
   {
    "duration": 8,
    "start_time": "2024-08-28T14:21:14.323Z"
   },
   {
    "duration": 170,
    "start_time": "2024-08-28T14:21:14.334Z"
   },
   {
    "duration": 8,
    "start_time": "2024-08-28T14:21:14.506Z"
   },
   {
    "duration": 5,
    "start_time": "2024-08-28T14:21:14.517Z"
   },
   {
    "duration": 7,
    "start_time": "2024-08-28T14:21:14.524Z"
   },
   {
    "duration": 5,
    "start_time": "2024-08-28T14:21:14.532Z"
   },
   {
    "duration": 3,
    "start_time": "2024-08-28T14:21:14.539Z"
   },
   {
    "duration": 9,
    "start_time": "2024-08-28T14:21:14.544Z"
   },
   {
    "duration": 32,
    "start_time": "2024-08-28T14:21:14.554Z"
   },
   {
    "duration": 247,
    "start_time": "2024-08-28T14:21:14.588Z"
   },
   {
    "duration": 160,
    "start_time": "2024-08-28T14:21:14.837Z"
   },
   {
    "duration": 179,
    "start_time": "2024-08-28T14:21:14.999Z"
   },
   {
    "duration": 496,
    "start_time": "2024-08-28T14:21:15.180Z"
   },
   {
    "duration": 201,
    "start_time": "2024-08-28T14:21:15.678Z"
   },
   {
    "duration": 158,
    "start_time": "2024-08-28T14:21:15.889Z"
   },
   {
    "duration": 407,
    "start_time": "2024-08-28T14:21:16.049Z"
   },
   {
    "duration": 3,
    "start_time": "2024-08-28T14:28:20.705Z"
   },
   {
    "duration": 3,
    "start_time": "2024-08-28T14:30:06.555Z"
   },
   {
    "duration": 32,
    "start_time": "2024-08-28T14:36:19.252Z"
   },
   {
    "duration": 3,
    "start_time": "2024-08-28T14:37:15.679Z"
   },
   {
    "duration": 95,
    "start_time": "2024-08-28T14:38:02.731Z"
   },
   {
    "duration": 936,
    "start_time": "2024-08-28T14:38:21.073Z"
   },
   {
    "duration": 475,
    "start_time": "2024-08-28T14:38:22.011Z"
   },
   {
    "duration": 17,
    "start_time": "2024-08-28T14:38:22.488Z"
   },
   {
    "duration": 13,
    "start_time": "2024-08-28T14:38:22.508Z"
   },
   {
    "duration": 73,
    "start_time": "2024-08-28T14:38:22.522Z"
   },
   {
    "duration": 7,
    "start_time": "2024-08-28T14:38:22.597Z"
   },
   {
    "duration": 15,
    "start_time": "2024-08-28T14:38:22.606Z"
   },
   {
    "duration": 10,
    "start_time": "2024-08-28T14:38:22.623Z"
   },
   {
    "duration": 19,
    "start_time": "2024-08-28T14:38:22.634Z"
   },
   {
    "duration": 34,
    "start_time": "2024-08-28T14:38:22.655Z"
   },
   {
    "duration": 16,
    "start_time": "2024-08-28T14:38:22.691Z"
   },
   {
    "duration": 12,
    "start_time": "2024-08-28T14:38:22.708Z"
   },
   {
    "duration": 106,
    "start_time": "2024-08-28T14:38:22.722Z"
   },
   {
    "duration": 8,
    "start_time": "2024-08-28T14:38:22.830Z"
   },
   {
    "duration": 168,
    "start_time": "2024-08-28T14:38:22.840Z"
   },
   {
    "duration": 7,
    "start_time": "2024-08-28T14:38:23.010Z"
   },
   {
    "duration": 4,
    "start_time": "2024-08-28T14:38:23.019Z"
   },
   {
    "duration": 4,
    "start_time": "2024-08-28T14:38:23.025Z"
   },
   {
    "duration": 4,
    "start_time": "2024-08-28T14:38:23.031Z"
   },
   {
    "duration": 4,
    "start_time": "2024-08-28T14:38:23.037Z"
   },
   {
    "duration": 43,
    "start_time": "2024-08-28T14:38:23.043Z"
   },
   {
    "duration": 2,
    "start_time": "2024-08-28T14:38:23.088Z"
   },
   {
    "duration": 182,
    "start_time": "2024-08-28T14:38:23.092Z"
   },
   {
    "duration": 167,
    "start_time": "2024-08-28T14:38:23.276Z"
   },
   {
    "duration": 170,
    "start_time": "2024-08-28T14:38:23.445Z"
   },
   {
    "duration": 477,
    "start_time": "2024-08-28T14:38:23.616Z"
   },
   {
    "duration": 200,
    "start_time": "2024-08-28T14:38:24.095Z"
   },
   {
    "duration": 161,
    "start_time": "2024-08-28T14:38:24.298Z"
   },
   {
    "duration": 391,
    "start_time": "2024-08-28T14:38:24.462Z"
   },
   {
    "duration": 3,
    "start_time": "2024-08-28T14:38:24.855Z"
   },
   {
    "duration": 4,
    "start_time": "2024-08-28T14:38:24.860Z"
   },
   {
    "duration": 87,
    "start_time": "2024-08-28T14:38:24.865Z"
   },
   {
    "duration": 1024,
    "start_time": "2024-08-28T14:40:52.799Z"
   },
   {
    "duration": 481,
    "start_time": "2024-08-28T14:40:53.825Z"
   },
   {
    "duration": 18,
    "start_time": "2024-08-28T14:40:54.307Z"
   },
   {
    "duration": 13,
    "start_time": "2024-08-28T14:40:54.327Z"
   },
   {
    "duration": 73,
    "start_time": "2024-08-28T14:40:54.342Z"
   },
   {
    "duration": 8,
    "start_time": "2024-08-28T14:40:54.416Z"
   },
   {
    "duration": 15,
    "start_time": "2024-08-28T14:40:54.426Z"
   },
   {
    "duration": 10,
    "start_time": "2024-08-28T14:40:54.442Z"
   },
   {
    "duration": 47,
    "start_time": "2024-08-28T14:40:54.453Z"
   },
   {
    "duration": 4,
    "start_time": "2024-08-28T14:40:54.503Z"
   },
   {
    "duration": 15,
    "start_time": "2024-08-28T14:40:54.509Z"
   },
   {
    "duration": 12,
    "start_time": "2024-08-28T14:40:54.525Z"
   },
   {
    "duration": 109,
    "start_time": "2024-08-28T14:40:54.538Z"
   },
   {
    "duration": 9,
    "start_time": "2024-08-28T14:40:54.648Z"
   },
   {
    "duration": 168,
    "start_time": "2024-08-28T14:40:54.659Z"
   },
   {
    "duration": 7,
    "start_time": "2024-08-28T14:40:54.829Z"
   },
   {
    "duration": 5,
    "start_time": "2024-08-28T14:40:54.837Z"
   },
   {
    "duration": 5,
    "start_time": "2024-08-28T14:40:54.844Z"
   },
   {
    "duration": 3,
    "start_time": "2024-08-28T14:40:54.851Z"
   },
   {
    "duration": 29,
    "start_time": "2024-08-28T14:40:54.857Z"
   },
   {
    "duration": 7,
    "start_time": "2024-08-28T14:40:54.888Z"
   },
   {
    "duration": 3,
    "start_time": "2024-08-28T14:40:54.896Z"
   },
   {
    "duration": 176,
    "start_time": "2024-08-28T14:40:54.901Z"
   },
   {
    "duration": 152,
    "start_time": "2024-08-28T14:40:55.080Z"
   },
   {
    "duration": 169,
    "start_time": "2024-08-28T14:40:55.233Z"
   },
   {
    "duration": 487,
    "start_time": "2024-08-28T14:40:55.404Z"
   },
   {
    "duration": 199,
    "start_time": "2024-08-28T14:40:55.893Z"
   },
   {
    "duration": 161,
    "start_time": "2024-08-28T14:40:56.095Z"
   },
   {
    "duration": 391,
    "start_time": "2024-08-28T14:40:56.258Z"
   },
   {
    "duration": 9,
    "start_time": "2024-08-28T14:40:56.650Z"
   },
   {
    "duration": 3,
    "start_time": "2024-08-28T14:40:56.661Z"
   },
   {
    "duration": 4,
    "start_time": "2024-08-28T14:40:56.666Z"
   },
   {
    "duration": 77,
    "start_time": "2024-08-28T14:40:56.687Z"
   },
   {
    "duration": 4,
    "start_time": "2024-08-28T14:41:25.032Z"
   },
   {
    "duration": 9,
    "start_time": "2024-08-28T14:42:58.873Z"
   },
   {
    "duration": 4,
    "start_time": "2024-08-28T14:43:00.024Z"
   },
   {
    "duration": 3,
    "start_time": "2024-08-28T14:43:00.529Z"
   },
   {
    "duration": 500967,
    "start_time": "2024-08-28T14:43:01.039Z"
   },
   {
    "duration": 501937,
    "start_time": "2024-08-28T14:51:22.008Z"
   },
   {
    "duration": 540,
    "start_time": "2024-08-28T14:59:43.948Z"
   },
   {
    "duration": 33,
    "start_time": "2024-08-28T16:03:48.132Z"
   },
   {
    "duration": 211,
    "start_time": "2024-08-28T16:04:26.295Z"
   },
   {
    "duration": 368,
    "start_time": "2024-08-28T16:06:19.804Z"
   },
   {
    "duration": 39,
    "start_time": "2024-08-28T16:06:40.034Z"
   },
   {
    "duration": 44,
    "start_time": "2024-08-28T16:07:26.154Z"
   },
   {
    "duration": 132172,
    "start_time": "2024-08-28T16:07:32.052Z"
   },
   {
    "duration": 131518,
    "start_time": "2024-08-28T16:10:59.082Z"
   },
   {
    "duration": 130550,
    "start_time": "2024-08-28T16:14:48.836Z"
   },
   {
    "duration": 12,
    "start_time": "2024-08-28T17:41:21.838Z"
   },
   {
    "duration": 43,
    "start_time": "2024-08-28T17:45:34.199Z"
   },
   {
    "duration": 37,
    "start_time": "2024-08-28T17:50:35.945Z"
   },
   {
    "duration": 436,
    "start_time": "2024-08-28T17:50:42.985Z"
   },
   {
    "duration": 12,
    "start_time": "2024-08-28T17:53:40.499Z"
   },
   {
    "duration": 9,
    "start_time": "2024-08-28T17:53:45.100Z"
   },
   {
    "duration": 17,
    "start_time": "2024-08-28T17:54:36.170Z"
   },
   {
    "duration": 2,
    "start_time": "2024-08-28T17:54:48.923Z"
   },
   {
    "duration": 30,
    "start_time": "2024-08-28T17:55:26.337Z"
   },
   {
    "duration": 3,
    "start_time": "2024-08-28T17:57:44.510Z"
   },
   {
    "duration": 3,
    "start_time": "2024-08-28T17:57:50.315Z"
   },
   {
    "duration": 3,
    "start_time": "2024-08-28T17:58:18.494Z"
   },
   {
    "duration": 39,
    "start_time": "2024-08-28T18:04:00.870Z"
   },
   {
    "duration": 37,
    "start_time": "2024-08-28T18:04:38.211Z"
   },
   {
    "duration": 5,
    "start_time": "2024-08-28T18:06:10.776Z"
   },
   {
    "duration": 14,
    "start_time": "2024-08-28T18:07:29.161Z"
   },
   {
    "duration": 7,
    "start_time": "2024-08-28T18:08:13.706Z"
   },
   {
    "duration": 9,
    "start_time": "2024-08-28T18:08:23.182Z"
   },
   {
    "duration": 11,
    "start_time": "2024-08-28T18:08:30.226Z"
   },
   {
    "duration": 5,
    "start_time": "2024-08-28T18:13:19.409Z"
   },
   {
    "duration": 8,
    "start_time": "2024-08-28T18:13:28.178Z"
   },
   {
    "duration": 21,
    "start_time": "2024-08-28T18:13:40.954Z"
   },
   {
    "duration": 26,
    "start_time": "2024-08-28T18:13:58.163Z"
   },
   {
    "duration": 154,
    "start_time": "2024-08-28T18:14:27.553Z"
   },
   {
    "duration": 7,
    "start_time": "2024-08-28T18:17:08.755Z"
   },
   {
    "duration": 29,
    "start_time": "2024-08-28T18:17:18.087Z"
   },
   {
    "duration": 74,
    "start_time": "2024-08-28T18:17:37.990Z"
   },
   {
    "duration": 7,
    "start_time": "2024-08-28T18:20:20.484Z"
   },
   {
    "duration": 79,
    "start_time": "2024-08-28T18:20:27.919Z"
   },
   {
    "duration": 2915,
    "start_time": "2024-08-28T20:12:42.889Z"
   },
   {
    "duration": 626,
    "start_time": "2024-08-28T20:12:45.806Z"
   },
   {
    "duration": 18,
    "start_time": "2024-08-28T20:12:46.434Z"
   },
   {
    "duration": 11,
    "start_time": "2024-08-28T20:12:46.455Z"
   },
   {
    "duration": 75,
    "start_time": "2024-08-28T20:12:46.468Z"
   },
   {
    "duration": 7,
    "start_time": "2024-08-28T20:12:46.545Z"
   },
   {
    "duration": 15,
    "start_time": "2024-08-28T20:12:46.553Z"
   },
   {
    "duration": 10,
    "start_time": "2024-08-28T20:12:46.570Z"
   },
   {
    "duration": 44,
    "start_time": "2024-08-28T20:12:46.581Z"
   },
   {
    "duration": 6,
    "start_time": "2024-08-28T20:12:46.628Z"
   },
   {
    "duration": 14,
    "start_time": "2024-08-28T20:12:46.635Z"
   },
   {
    "duration": 13,
    "start_time": "2024-08-28T20:12:46.651Z"
   },
   {
    "duration": 109,
    "start_time": "2024-08-28T20:12:46.665Z"
   },
   {
    "duration": 7,
    "start_time": "2024-08-28T20:12:46.776Z"
   },
   {
    "duration": 163,
    "start_time": "2024-08-28T20:12:46.785Z"
   },
   {
    "duration": 7,
    "start_time": "2024-08-28T20:12:46.950Z"
   },
   {
    "duration": 5,
    "start_time": "2024-08-28T20:12:46.958Z"
   },
   {
    "duration": 5,
    "start_time": "2024-08-28T20:12:46.965Z"
   },
   {
    "duration": 3,
    "start_time": "2024-08-28T20:12:46.972Z"
   },
   {
    "duration": 4,
    "start_time": "2024-08-28T20:12:46.977Z"
   },
   {
    "duration": 41,
    "start_time": "2024-08-28T20:12:46.983Z"
   },
   {
    "duration": 3,
    "start_time": "2024-08-28T20:12:47.026Z"
   },
   {
    "duration": 162,
    "start_time": "2024-08-28T20:12:47.030Z"
   },
   {
    "duration": 156,
    "start_time": "2024-08-28T20:12:47.194Z"
   },
   {
    "duration": 227,
    "start_time": "2024-08-28T20:12:47.352Z"
   },
   {
    "duration": 460,
    "start_time": "2024-08-28T20:12:47.582Z"
   },
   {
    "duration": 210,
    "start_time": "2024-08-28T20:12:48.044Z"
   },
   {
    "duration": 165,
    "start_time": "2024-08-28T20:12:48.256Z"
   },
   {
    "duration": 376,
    "start_time": "2024-08-28T20:12:49.544Z"
   },
   {
    "duration": 9,
    "start_time": "2024-08-28T20:12:52.746Z"
   },
   {
    "duration": 4,
    "start_time": "2024-08-28T20:12:52.907Z"
   },
   {
    "duration": 6,
    "start_time": "2024-08-28T20:12:53.263Z"
   },
   {
    "duration": 3,
    "start_time": "2024-08-28T20:12:54.265Z"
   },
   {
    "duration": 3,
    "start_time": "2024-08-28T20:12:54.693Z"
   },
   {
    "duration": 11,
    "start_time": "2024-08-28T20:12:58.225Z"
   },
   {
    "duration": 9,
    "start_time": "2024-08-28T20:12:58.386Z"
   },
   {
    "duration": 3,
    "start_time": "2024-08-28T20:12:59.802Z"
   },
   {
    "duration": 2,
    "start_time": "2024-08-28T20:12:59.936Z"
   },
   {
    "duration": 3,
    "start_time": "2024-08-28T20:13:00.383Z"
   },
   {
    "duration": 7,
    "start_time": "2024-08-28T20:13:00.935Z"
   },
   {
    "duration": 496,
    "start_time": "2024-08-28T20:13:01.589Z"
   },
   {
    "duration": 19,
    "start_time": "2024-08-28T20:13:14.988Z"
   },
   {
    "duration": 621,
    "start_time": "2024-08-28T20:13:40.663Z"
   },
   {
    "duration": 21,
    "start_time": "2024-08-28T20:13:44.329Z"
   },
   {
    "duration": 57,
    "start_time": "2024-08-28T20:13:53.684Z"
   },
   {
    "duration": 6,
    "start_time": "2024-08-31T14:06:56.857Z"
   },
   {
    "duration": 153,
    "start_time": "2024-08-31T14:08:47.492Z"
   },
   {
    "duration": 2698,
    "start_time": "2024-08-31T14:09:03.925Z"
   },
   {
    "duration": 643,
    "start_time": "2024-08-31T14:09:06.625Z"
   },
   {
    "duration": 18,
    "start_time": "2024-08-31T14:09:07.270Z"
   },
   {
    "duration": 13,
    "start_time": "2024-08-31T14:09:07.289Z"
   },
   {
    "duration": 75,
    "start_time": "2024-08-31T14:09:07.305Z"
   },
   {
    "duration": 8,
    "start_time": "2024-08-31T14:09:07.382Z"
   },
   {
    "duration": 14,
    "start_time": "2024-08-31T14:09:07.392Z"
   },
   {
    "duration": 10,
    "start_time": "2024-08-31T14:09:07.408Z"
   },
   {
    "duration": 19,
    "start_time": "2024-08-31T14:09:07.420Z"
   },
   {
    "duration": 6,
    "start_time": "2024-08-31T14:09:07.470Z"
   },
   {
    "duration": 15,
    "start_time": "2024-08-31T14:09:07.477Z"
   },
   {
    "duration": 13,
    "start_time": "2024-08-31T14:09:07.493Z"
   },
   {
    "duration": 109,
    "start_time": "2024-08-31T14:09:07.508Z"
   },
   {
    "duration": 8,
    "start_time": "2024-08-31T14:09:07.621Z"
   },
   {
    "duration": 232,
    "start_time": "2024-08-31T14:09:07.630Z"
   },
   {
    "duration": 12,
    "start_time": "2024-08-31T14:09:07.864Z"
   },
   {
    "duration": 5,
    "start_time": "2024-08-31T14:09:07.877Z"
   },
   {
    "duration": 6,
    "start_time": "2024-08-31T14:09:07.883Z"
   },
   {
    "duration": 4,
    "start_time": "2024-08-31T14:09:07.890Z"
   },
   {
    "duration": 4,
    "start_time": "2024-08-31T14:09:07.896Z"
   },
   {
    "duration": 6,
    "start_time": "2024-08-31T14:09:07.902Z"
   },
   {
    "duration": 3,
    "start_time": "2024-08-31T14:09:07.910Z"
   },
   {
    "duration": 195,
    "start_time": "2024-08-31T14:09:07.916Z"
   },
   {
    "duration": 163,
    "start_time": "2024-08-31T14:09:08.113Z"
   },
   {
    "duration": 170,
    "start_time": "2024-08-31T14:09:08.279Z"
   },
   {
    "duration": 471,
    "start_time": "2024-08-31T14:09:08.451Z"
   },
   {
    "duration": 201,
    "start_time": "2024-08-31T14:09:08.924Z"
   },
   {
    "duration": 165,
    "start_time": "2024-08-31T14:09:09.127Z"
   },
   {
    "duration": 235,
    "start_time": "2024-08-31T14:09:09.295Z"
   },
   {
    "duration": 0,
    "start_time": "2024-08-31T14:09:09.532Z"
   },
   {
    "duration": 0,
    "start_time": "2024-08-31T14:09:09.534Z"
   },
   {
    "duration": 0,
    "start_time": "2024-08-31T14:09:09.535Z"
   },
   {
    "duration": 0,
    "start_time": "2024-08-31T14:09:09.536Z"
   },
   {
    "duration": 16,
    "start_time": "2024-08-31T14:10:25.245Z"
   },
   {
    "duration": 4,
    "start_time": "2024-08-31T14:10:39.905Z"
   },
   {
    "duration": 2,
    "start_time": "2024-08-31T14:10:49.527Z"
   },
   {
    "duration": 332,
    "start_time": "2024-08-31T14:11:43.079Z"
   },
   {
    "duration": 15,
    "start_time": "2024-08-31T14:13:41.516Z"
   },
   {
    "duration": 160,
    "start_time": "2024-08-31T14:14:09.111Z"
   },
   {
    "duration": 13,
    "start_time": "2024-08-31T14:16:21.085Z"
   },
   {
    "duration": 92,
    "start_time": "2024-08-31T14:16:34.870Z"
   },
   {
    "duration": 21,
    "start_time": "2024-08-31T14:16:39.544Z"
   },
   {
    "duration": 14,
    "start_time": "2024-08-31T14:17:15.677Z"
   },
   {
    "duration": 12,
    "start_time": "2024-08-31T14:17:38.870Z"
   },
   {
    "duration": 7,
    "start_time": "2024-08-31T14:18:03.414Z"
   },
   {
    "duration": 5,
    "start_time": "2024-08-31T14:18:29.234Z"
   },
   {
    "duration": 16,
    "start_time": "2024-08-31T14:18:35.544Z"
   },
   {
    "duration": 13,
    "start_time": "2024-08-31T14:18:43.279Z"
   },
   {
    "duration": 15,
    "start_time": "2024-08-31T14:18:43.745Z"
   },
   {
    "duration": 5,
    "start_time": "2024-08-31T14:22:43.738Z"
   },
   {
    "duration": 3,
    "start_time": "2024-08-31T14:22:56.669Z"
   },
   {
    "duration": 13,
    "start_time": "2024-08-31T14:22:57.360Z"
   },
   {
    "duration": 4,
    "start_time": "2024-08-31T14:23:03.296Z"
   },
   {
    "duration": 2,
    "start_time": "2024-08-31T14:23:03.816Z"
   },
   {
    "duration": 2,
    "start_time": "2024-08-31T14:23:04.623Z"
   },
   {
    "duration": 3496,
    "start_time": "2024-08-31T14:23:04.894Z"
   },
   {
    "duration": 5,
    "start_time": "2024-08-31T14:25:04.360Z"
   },
   {
    "duration": 2,
    "start_time": "2024-08-31T14:25:04.798Z"
   },
   {
    "duration": 6,
    "start_time": "2024-08-31T14:25:05.028Z"
   },
   {
    "duration": 3,
    "start_time": "2024-08-31T14:25:05.823Z"
   },
   {
    "duration": 3,
    "start_time": "2024-08-31T14:25:06.809Z"
   },
   {
    "duration": 3,
    "start_time": "2024-08-31T14:25:07.752Z"
   },
   {
    "duration": 3465,
    "start_time": "2024-08-31T14:25:08.080Z"
   },
   {
    "duration": 4,
    "start_time": "2024-08-31T14:25:50.809Z"
   },
   {
    "duration": 3,
    "start_time": "2024-08-31T14:28:03.607Z"
   },
   {
    "duration": 198408,
    "start_time": "2024-08-31T14:28:04.024Z"
   },
   {
    "duration": 50768,
    "start_time": "2024-08-31T14:32:36.059Z"
   },
   {
    "duration": 4,
    "start_time": "2024-08-31T14:33:26.828Z"
   },
   {
    "duration": 18,
    "start_time": "2024-08-31T14:34:40.607Z"
   },
   {
    "duration": 11,
    "start_time": "2024-08-31T14:34:48.515Z"
   },
   {
    "duration": 19,
    "start_time": "2024-08-31T14:35:09.753Z"
   },
   {
    "duration": 6,
    "start_time": "2024-08-31T14:35:24.270Z"
   },
   {
    "duration": 152,
    "start_time": "2024-08-31T14:35:25.922Z"
   },
   {
    "duration": 15,
    "start_time": "2024-08-31T14:36:13.272Z"
   },
   {
    "duration": 3,
    "start_time": "2024-08-31T14:36:42.652Z"
   },
   {
    "duration": 17,
    "start_time": "2024-08-31T14:36:43.397Z"
   },
   {
    "duration": 340,
    "start_time": "2024-08-31T14:36:48.754Z"
   },
   {
    "duration": 165,
    "start_time": "2024-08-31T18:39:21.382Z"
   },
   {
    "duration": 2702,
    "start_time": "2024-08-31T18:39:27.711Z"
   },
   {
    "duration": 682,
    "start_time": "2024-08-31T18:39:30.415Z"
   },
   {
    "duration": 19,
    "start_time": "2024-08-31T18:39:31.099Z"
   },
   {
    "duration": 13,
    "start_time": "2024-08-31T18:39:31.120Z"
   },
   {
    "duration": 80,
    "start_time": "2024-08-31T18:39:31.134Z"
   },
   {
    "duration": 7,
    "start_time": "2024-08-31T18:39:31.216Z"
   },
   {
    "duration": 14,
    "start_time": "2024-08-31T18:39:31.225Z"
   },
   {
    "duration": 12,
    "start_time": "2024-08-31T18:39:31.240Z"
   },
   {
    "duration": 68,
    "start_time": "2024-08-31T18:39:31.271Z"
   },
   {
    "duration": 6,
    "start_time": "2024-08-31T18:39:31.342Z"
   },
   {
    "duration": 27,
    "start_time": "2024-08-31T18:39:31.350Z"
   },
   {
    "duration": 22,
    "start_time": "2024-08-31T18:39:31.379Z"
   },
   {
    "duration": 11,
    "start_time": "2024-08-31T18:39:31.402Z"
   },
   {
    "duration": 5,
    "start_time": "2024-08-31T18:39:31.414Z"
   },
   {
    "duration": 15,
    "start_time": "2024-08-31T18:39:31.421Z"
   },
   {
    "duration": 41,
    "start_time": "2024-08-31T18:39:31.438Z"
   },
   {
    "duration": 95,
    "start_time": "2024-08-31T18:39:31.481Z"
   },
   {
    "duration": 7,
    "start_time": "2024-08-31T18:39:31.579Z"
   },
   {
    "duration": 170,
    "start_time": "2024-08-31T18:39:31.588Z"
   },
   {
    "duration": 10,
    "start_time": "2024-08-31T18:39:31.760Z"
   },
   {
    "duration": 4,
    "start_time": "2024-08-31T18:39:31.772Z"
   },
   {
    "duration": 5,
    "start_time": "2024-08-31T18:39:31.778Z"
   },
   {
    "duration": 3,
    "start_time": "2024-08-31T18:39:31.784Z"
   },
   {
    "duration": 4,
    "start_time": "2024-08-31T18:39:31.789Z"
   },
   {
    "duration": 12,
    "start_time": "2024-08-31T18:39:31.795Z"
   },
   {
    "duration": 3,
    "start_time": "2024-08-31T18:39:31.808Z"
   },
   {
    "duration": 181,
    "start_time": "2024-08-31T18:39:31.813Z"
   },
   {
    "duration": 154,
    "start_time": "2024-08-31T18:39:31.998Z"
   },
   {
    "duration": 178,
    "start_time": "2024-08-31T18:39:32.154Z"
   },
   {
    "duration": 441,
    "start_time": "2024-08-31T18:39:32.336Z"
   },
   {
    "duration": 180,
    "start_time": "2024-08-31T18:39:32.779Z"
   },
   {
    "duration": 16,
    "start_time": "2024-08-31T18:39:32.961Z"
   },
   {
    "duration": 5,
    "start_time": "2024-08-31T18:39:32.979Z"
   },
   {
    "duration": 3,
    "start_time": "2024-08-31T18:39:32.986Z"
   },
   {
    "duration": 435,
    "start_time": "2024-08-31T18:39:32.991Z"
   },
   {
    "duration": 3,
    "start_time": "2024-08-31T18:39:33.428Z"
   },
   {
    "duration": 6,
    "start_time": "2024-08-31T18:39:33.433Z"
   },
   {
    "duration": 4,
    "start_time": "2024-08-31T18:39:33.441Z"
   },
   {
    "duration": 3,
    "start_time": "2024-08-31T18:39:33.446Z"
   },
   {
    "duration": 3,
    "start_time": "2024-08-31T18:39:33.470Z"
   },
   {
    "duration": 104898,
    "start_time": "2024-08-31T18:39:33.475Z"
   },
   {
    "duration": 27500,
    "start_time": "2024-08-31T18:41:18.375Z"
   },
   {
    "duration": 2807,
    "start_time": "2024-09-01T07:40:14.298Z"
   },
   {
    "duration": 696,
    "start_time": "2024-09-01T07:40:17.108Z"
   },
   {
    "duration": 18,
    "start_time": "2024-09-01T07:40:17.805Z"
   },
   {
    "duration": 12,
    "start_time": "2024-09-01T07:40:17.826Z"
   },
   {
    "duration": 79,
    "start_time": "2024-09-01T07:40:17.840Z"
   },
   {
    "duration": 7,
    "start_time": "2024-09-01T07:40:17.921Z"
   },
   {
    "duration": 15,
    "start_time": "2024-09-01T07:40:17.930Z"
   },
   {
    "duration": 30,
    "start_time": "2024-09-01T07:40:17.947Z"
   },
   {
    "duration": 20,
    "start_time": "2024-09-01T07:40:17.979Z"
   },
   {
    "duration": 5,
    "start_time": "2024-09-01T07:40:18.002Z"
   },
   {
    "duration": 14,
    "start_time": "2024-09-01T07:40:18.009Z"
   },
   {
    "duration": 44,
    "start_time": "2024-09-01T07:40:18.027Z"
   },
   {
    "duration": 10,
    "start_time": "2024-09-01T07:40:18.073Z"
   },
   {
    "duration": 5,
    "start_time": "2024-09-01T07:40:18.085Z"
   },
   {
    "duration": 19,
    "start_time": "2024-09-01T07:40:18.091Z"
   },
   {
    "duration": 12,
    "start_time": "2024-09-01T07:40:18.113Z"
   },
   {
    "duration": 117,
    "start_time": "2024-09-01T07:40:18.127Z"
   },
   {
    "duration": 7,
    "start_time": "2024-09-01T07:40:18.246Z"
   },
   {
    "duration": 222,
    "start_time": "2024-09-01T07:40:18.255Z"
   },
   {
    "duration": 7,
    "start_time": "2024-09-01T07:40:18.479Z"
   },
   {
    "duration": 4,
    "start_time": "2024-09-01T07:40:18.487Z"
   },
   {
    "duration": 6,
    "start_time": "2024-09-01T07:40:18.493Z"
   },
   {
    "duration": 6,
    "start_time": "2024-09-01T07:40:19.271Z"
   },
   {
    "duration": 4,
    "start_time": "2024-09-01T07:40:20.500Z"
   },
   {
    "duration": 11,
    "start_time": "2024-09-01T07:40:20.831Z"
   },
   {
    "duration": 3,
    "start_time": "2024-09-01T07:40:21.081Z"
   },
   {
    "duration": 144,
    "start_time": "2024-09-01T07:40:21.725Z"
   },
   {
    "duration": 134,
    "start_time": "2024-09-01T07:40:22.304Z"
   },
   {
    "duration": 144,
    "start_time": "2024-09-01T07:40:22.473Z"
   },
   {
    "duration": 471,
    "start_time": "2024-09-01T07:40:23.992Z"
   },
   {
    "duration": 162,
    "start_time": "2024-09-01T07:40:25.149Z"
   },
   {
    "duration": 2,
    "start_time": "2024-09-01T07:40:27.731Z"
   },
   {
    "duration": 7,
    "start_time": "2024-09-01T07:40:28.811Z"
   },
   {
    "duration": 4,
    "start_time": "2024-09-01T07:40:43.295Z"
   },
   {
    "duration": 3,
    "start_time": "2024-09-01T07:40:45.278Z"
   },
   {
    "duration": 3,
    "start_time": "2024-09-01T07:40:48.504Z"
   },
   {
    "duration": 3,
    "start_time": "2024-09-01T07:40:54.761Z"
   },
   {
    "duration": 2,
    "start_time": "2024-09-01T07:40:55.454Z"
   },
   {
    "duration": 2,
    "start_time": "2024-09-01T07:40:56.702Z"
   },
   {
    "duration": 136383,
    "start_time": "2024-09-01T07:40:58.030Z"
   },
   {
    "duration": 35382,
    "start_time": "2024-09-01T07:43:14.415Z"
   },
   {
    "duration": 4,
    "start_time": "2024-09-01T07:43:49.799Z"
   },
   {
    "duration": 5,
    "start_time": "2024-09-01T07:53:43.971Z"
   },
   {
    "duration": 6,
    "start_time": "2024-09-01T13:46:33.584Z"
   },
   {
    "duration": 156,
    "start_time": "2024-09-01T13:46:33.916Z"
   },
   {
    "duration": 2737,
    "start_time": "2024-09-01T13:52:04.002Z"
   },
   {
    "duration": 683,
    "start_time": "2024-09-01T13:52:06.741Z"
   },
   {
    "duration": 18,
    "start_time": "2024-09-01T13:52:07.426Z"
   },
   {
    "duration": 13,
    "start_time": "2024-09-01T13:52:07.446Z"
   },
   {
    "duration": 57,
    "start_time": "2024-09-01T13:52:07.470Z"
   },
   {
    "duration": 7,
    "start_time": "2024-09-01T13:52:07.529Z"
   },
   {
    "duration": 14,
    "start_time": "2024-09-01T13:52:07.539Z"
   },
   {
    "duration": 11,
    "start_time": "2024-09-01T13:52:07.571Z"
   },
   {
    "duration": 18,
    "start_time": "2024-09-01T13:52:07.584Z"
   },
   {
    "duration": 5,
    "start_time": "2024-09-01T13:52:07.605Z"
   },
   {
    "duration": 10,
    "start_time": "2024-09-01T13:52:07.612Z"
   },
   {
    "duration": 51,
    "start_time": "2024-09-01T13:52:07.624Z"
   },
   {
    "duration": 10,
    "start_time": "2024-09-01T13:52:07.676Z"
   },
   {
    "duration": 5,
    "start_time": "2024-09-01T13:52:07.688Z"
   },
   {
    "duration": 16,
    "start_time": "2024-09-01T13:52:07.695Z"
   },
   {
    "duration": 12,
    "start_time": "2024-09-01T13:52:07.714Z"
   },
   {
    "duration": 114,
    "start_time": "2024-09-01T13:52:07.728Z"
   },
   {
    "duration": 6,
    "start_time": "2024-09-01T13:52:07.844Z"
   },
   {
    "duration": 166,
    "start_time": "2024-09-01T13:52:07.852Z"
   },
   {
    "duration": 7,
    "start_time": "2024-09-01T13:52:08.019Z"
   },
   {
    "duration": 4,
    "start_time": "2024-09-01T13:52:08.028Z"
   },
   {
    "duration": 6,
    "start_time": "2024-09-01T13:52:08.033Z"
   },
   {
    "duration": 4,
    "start_time": "2024-09-01T13:52:08.041Z"
   },
   {
    "duration": 4,
    "start_time": "2024-09-01T13:52:08.070Z"
   },
   {
    "duration": 66,
    "start_time": "2024-09-01T13:52:08.076Z"
   },
   {
    "duration": 3,
    "start_time": "2024-09-01T13:52:08.144Z"
   },
   {
    "duration": 156,
    "start_time": "2024-09-01T13:52:08.149Z"
   },
   {
    "duration": 148,
    "start_time": "2024-09-01T13:52:08.308Z"
   },
   {
    "duration": 150,
    "start_time": "2024-09-01T13:52:08.458Z"
   },
   {
    "duration": 447,
    "start_time": "2024-09-01T13:52:08.610Z"
   },
   {
    "duration": 175,
    "start_time": "2024-09-01T13:52:09.059Z"
   },
   {
    "duration": 3,
    "start_time": "2024-09-01T13:52:09.236Z"
   },
   {
    "duration": 12,
    "start_time": "2024-09-01T13:52:09.241Z"
   },
   {
    "duration": 6,
    "start_time": "2024-09-01T13:52:09.255Z"
   },
   {
    "duration": 9,
    "start_time": "2024-09-01T13:52:09.262Z"
   },
   {
    "duration": 3,
    "start_time": "2024-09-01T13:52:09.272Z"
   },
   {
    "duration": 136514,
    "start_time": "2024-09-01T13:52:09.277Z"
   },
   {
    "duration": 980,
    "start_time": "2024-09-01T13:58:18.315Z"
   },
   {
    "duration": 484,
    "start_time": "2024-09-01T13:58:19.298Z"
   },
   {
    "duration": 17,
    "start_time": "2024-09-01T13:58:19.784Z"
   },
   {
    "duration": 14,
    "start_time": "2024-09-01T13:58:19.803Z"
   },
   {
    "duration": 73,
    "start_time": "2024-09-01T13:58:19.819Z"
   },
   {
    "duration": 7,
    "start_time": "2024-09-01T13:58:19.893Z"
   },
   {
    "duration": 15,
    "start_time": "2024-09-01T13:58:19.902Z"
   },
   {
    "duration": 9,
    "start_time": "2024-09-01T13:58:19.919Z"
   },
   {
    "duration": 43,
    "start_time": "2024-09-01T13:58:19.929Z"
   },
   {
    "duration": 6,
    "start_time": "2024-09-01T13:58:19.974Z"
   },
   {
    "duration": 10,
    "start_time": "2024-09-01T13:58:19.981Z"
   },
   {
    "duration": 22,
    "start_time": "2024-09-01T13:58:19.993Z"
   },
   {
    "duration": 10,
    "start_time": "2024-09-01T13:58:20.018Z"
   },
   {
    "duration": 5,
    "start_time": "2024-09-01T13:58:20.031Z"
   },
   {
    "duration": 45,
    "start_time": "2024-09-01T13:58:20.038Z"
   },
   {
    "duration": 12,
    "start_time": "2024-09-01T13:58:20.084Z"
   },
   {
    "duration": 104,
    "start_time": "2024-09-01T13:58:20.098Z"
   },
   {
    "duration": 8,
    "start_time": "2024-09-01T13:58:20.204Z"
   },
   {
    "duration": 161,
    "start_time": "2024-09-01T13:58:20.214Z"
   },
   {
    "duration": 7,
    "start_time": "2024-09-01T13:58:20.377Z"
   },
   {
    "duration": 4,
    "start_time": "2024-09-01T13:58:20.386Z"
   },
   {
    "duration": 4,
    "start_time": "2024-09-01T13:58:20.392Z"
   },
   {
    "duration": 4,
    "start_time": "2024-09-01T13:58:20.398Z"
   },
   {
    "duration": 4,
    "start_time": "2024-09-01T13:58:20.403Z"
   },
   {
    "duration": 12,
    "start_time": "2024-09-01T13:58:20.409Z"
   },
   {
    "duration": 2,
    "start_time": "2024-09-01T13:58:20.423Z"
   },
   {
    "duration": 182,
    "start_time": "2024-09-01T13:58:20.427Z"
   },
   {
    "duration": 142,
    "start_time": "2024-09-01T13:58:20.611Z"
   },
   {
    "duration": 155,
    "start_time": "2024-09-01T13:58:20.755Z"
   },
   {
    "duration": 443,
    "start_time": "2024-09-01T13:58:20.911Z"
   },
   {
    "duration": 172,
    "start_time": "2024-09-01T13:58:21.356Z"
   },
   {
    "duration": 3,
    "start_time": "2024-09-01T13:58:21.529Z"
   },
   {
    "duration": 10,
    "start_time": "2024-09-01T13:58:21.534Z"
   },
   {
    "duration": 4,
    "start_time": "2024-09-01T13:58:21.546Z"
   },
   {
    "duration": 19,
    "start_time": "2024-09-01T13:58:21.552Z"
   },
   {
    "duration": 136572,
    "start_time": "2024-09-01T13:58:21.573Z"
   },
   {
    "duration": 4,
    "start_time": "2024-09-01T14:00:38.147Z"
   },
   {
    "duration": 5,
    "start_time": "2024-09-01T14:01:33.547Z"
   },
   {
    "duration": 3,
    "start_time": "2024-09-01T14:01:47.104Z"
   },
   {
    "duration": 6,
    "start_time": "2024-09-01T14:04:04.283Z"
   },
   {
    "duration": 2,
    "start_time": "2024-09-01T14:04:04.291Z"
   },
   {
    "duration": 136586,
    "start_time": "2024-09-01T14:04:04.295Z"
   },
   {
    "duration": 5,
    "start_time": "2024-09-01T14:06:33.936Z"
   },
   {
    "duration": 3,
    "start_time": "2024-09-01T14:06:36.865Z"
   },
   {
    "duration": 136543,
    "start_time": "2024-09-01T14:06:37.120Z"
   },
   {
    "duration": 3,
    "start_time": "2024-09-01T14:12:16.710Z"
   },
   {
    "duration": 3,
    "start_time": "2024-09-01T14:12:17.804Z"
   },
   {
    "duration": 136486,
    "start_time": "2024-09-01T14:12:18.430Z"
   },
   {
    "duration": 3,
    "start_time": "2024-09-01T14:14:34.918Z"
   },
   {
    "duration": 2,
    "start_time": "2024-09-01T14:14:34.923Z"
   },
   {
    "duration": 6,
    "start_time": "2024-09-01T14:16:06.877Z"
   },
   {
    "duration": 2,
    "start_time": "2024-09-01T14:16:08.005Z"
   },
   {
    "duration": 136497,
    "start_time": "2024-09-01T14:16:08.499Z"
   },
   {
    "duration": 5,
    "start_time": "2024-09-01T14:22:18.536Z"
   },
   {
    "duration": 3,
    "start_time": "2024-09-01T14:22:19.302Z"
   },
   {
    "duration": 137892,
    "start_time": "2024-09-01T14:22:19.734Z"
   },
   {
    "duration": 5,
    "start_time": "2024-09-01T14:27:02.679Z"
   },
   {
    "duration": 3,
    "start_time": "2024-09-01T14:27:03.413Z"
   },
   {
    "duration": 136788,
    "start_time": "2024-09-01T14:27:03.840Z"
   },
   {
    "duration": 137570,
    "start_time": "2024-09-01T14:32:13.894Z"
   },
   {
    "duration": 137254,
    "start_time": "2024-09-01T14:34:31.470Z"
   },
   {
    "duration": 4,
    "start_time": "2024-09-01T14:37:13.317Z"
   },
   {
    "duration": 5,
    "start_time": "2024-09-01T14:38:16.654Z"
   },
   {
    "duration": 136960,
    "start_time": "2024-09-01T14:38:21.617Z"
   },
   {
    "duration": 267,
    "start_time": "2024-09-01T14:41:50.693Z"
   },
   {
    "duration": 19,
    "start_time": "2024-09-01T14:42:26.353Z"
   },
   {
    "duration": 967,
    "start_time": "2024-09-01T14:42:53.535Z"
   },
   {
    "duration": 502,
    "start_time": "2024-09-01T14:42:54.505Z"
   },
   {
    "duration": 18,
    "start_time": "2024-09-01T14:42:55.008Z"
   },
   {
    "duration": 13,
    "start_time": "2024-09-01T14:42:55.027Z"
   },
   {
    "duration": 74,
    "start_time": "2024-09-01T14:42:55.042Z"
   },
   {
    "duration": 7,
    "start_time": "2024-09-01T14:42:55.117Z"
   },
   {
    "duration": 15,
    "start_time": "2024-09-01T14:42:55.125Z"
   },
   {
    "duration": 30,
    "start_time": "2024-09-01T14:42:55.142Z"
   },
   {
    "duration": 18,
    "start_time": "2024-09-01T14:42:55.174Z"
   },
   {
    "duration": 6,
    "start_time": "2024-09-01T14:42:55.194Z"
   },
   {
    "duration": 11,
    "start_time": "2024-09-01T14:42:55.201Z"
   },
   {
    "duration": 22,
    "start_time": "2024-09-01T14:42:55.214Z"
   },
   {
    "duration": 37,
    "start_time": "2024-09-01T14:42:55.238Z"
   },
   {
    "duration": 5,
    "start_time": "2024-09-01T14:42:55.280Z"
   },
   {
    "duration": 15,
    "start_time": "2024-09-01T14:42:55.286Z"
   },
   {
    "duration": 13,
    "start_time": "2024-09-01T14:42:55.303Z"
   },
   {
    "duration": 110,
    "start_time": "2024-09-01T14:42:55.318Z"
   },
   {
    "duration": 7,
    "start_time": "2024-09-01T14:42:55.430Z"
   },
   {
    "duration": 179,
    "start_time": "2024-09-01T14:42:55.438Z"
   },
   {
    "duration": 7,
    "start_time": "2024-09-01T14:42:55.619Z"
   },
   {
    "duration": 5,
    "start_time": "2024-09-01T14:42:55.627Z"
   },
   {
    "duration": 5,
    "start_time": "2024-09-01T14:42:55.633Z"
   },
   {
    "duration": 30,
    "start_time": "2024-09-01T14:42:55.640Z"
   },
   {
    "duration": 5,
    "start_time": "2024-09-01T14:42:55.672Z"
   },
   {
    "duration": 11,
    "start_time": "2024-09-01T14:42:55.680Z"
   },
   {
    "duration": 2,
    "start_time": "2024-09-01T14:42:55.693Z"
   },
   {
    "duration": 158,
    "start_time": "2024-09-01T14:42:55.697Z"
   },
   {
    "duration": 144,
    "start_time": "2024-09-01T14:42:55.857Z"
   },
   {
    "duration": 151,
    "start_time": "2024-09-01T14:42:56.003Z"
   },
   {
    "duration": 447,
    "start_time": "2024-09-01T14:42:56.157Z"
   },
   {
    "duration": 167,
    "start_time": "2024-09-01T14:42:56.606Z"
   },
   {
    "duration": 3,
    "start_time": "2024-09-01T14:42:56.775Z"
   },
   {
    "duration": 8,
    "start_time": "2024-09-01T14:42:56.780Z"
   },
   {
    "duration": 66,
    "start_time": "2024-09-01T14:42:56.790Z"
   },
   {
    "duration": 277,
    "start_time": "2024-09-01T14:42:56.870Z"
   },
   {
    "duration": 0,
    "start_time": "2024-09-01T14:42:57.149Z"
   },
   {
    "duration": 173,
    "start_time": "2024-09-01T14:48:57.188Z"
   },
   {
    "duration": 967,
    "start_time": "2024-09-01T14:49:31.142Z"
   },
   {
    "duration": 495,
    "start_time": "2024-09-01T14:49:32.111Z"
   },
   {
    "duration": 18,
    "start_time": "2024-09-01T14:49:32.607Z"
   },
   {
    "duration": 13,
    "start_time": "2024-09-01T14:49:32.627Z"
   },
   {
    "duration": 75,
    "start_time": "2024-09-01T14:49:32.642Z"
   },
   {
    "duration": 7,
    "start_time": "2024-09-01T14:49:32.718Z"
   },
   {
    "duration": 14,
    "start_time": "2024-09-01T14:49:32.727Z"
   },
   {
    "duration": 27,
    "start_time": "2024-09-01T14:49:32.743Z"
   },
   {
    "duration": 17,
    "start_time": "2024-09-01T14:49:32.772Z"
   },
   {
    "duration": 7,
    "start_time": "2024-09-01T14:49:32.792Z"
   },
   {
    "duration": 11,
    "start_time": "2024-09-01T14:49:32.801Z"
   },
   {
    "duration": 21,
    "start_time": "2024-09-01T14:49:32.814Z"
   },
   {
    "duration": 38,
    "start_time": "2024-09-01T14:49:32.836Z"
   },
   {
    "duration": 5,
    "start_time": "2024-09-01T14:49:32.876Z"
   },
   {
    "duration": 15,
    "start_time": "2024-09-01T14:49:32.882Z"
   },
   {
    "duration": 13,
    "start_time": "2024-09-01T14:49:32.898Z"
   },
   {
    "duration": 106,
    "start_time": "2024-09-01T14:49:32.912Z"
   },
   {
    "duration": 7,
    "start_time": "2024-09-01T14:49:33.021Z"
   },
   {
    "duration": 168,
    "start_time": "2024-09-01T14:49:33.030Z"
   },
   {
    "duration": 8,
    "start_time": "2024-09-01T14:49:33.199Z"
   },
   {
    "duration": 4,
    "start_time": "2024-09-01T14:49:33.209Z"
   },
   {
    "duration": 5,
    "start_time": "2024-09-01T14:49:33.214Z"
   },
   {
    "duration": 3,
    "start_time": "2024-09-01T14:49:33.221Z"
   },
   {
    "duration": 5,
    "start_time": "2024-09-01T14:49:33.226Z"
   },
   {
    "duration": 47,
    "start_time": "2024-09-01T14:49:33.233Z"
   },
   {
    "duration": 3,
    "start_time": "2024-09-01T14:49:33.282Z"
   },
   {
    "duration": 152,
    "start_time": "2024-09-01T14:49:33.286Z"
   },
   {
    "duration": 151,
    "start_time": "2024-09-01T14:49:33.442Z"
   },
   {
    "duration": 157,
    "start_time": "2024-09-01T14:49:33.595Z"
   },
   {
    "duration": 416,
    "start_time": "2024-09-01T14:49:33.754Z"
   },
   {
    "duration": 171,
    "start_time": "2024-09-01T14:49:34.172Z"
   },
   {
    "duration": 3,
    "start_time": "2024-09-01T14:49:34.345Z"
   },
   {
    "duration": 20,
    "start_time": "2024-09-01T14:49:34.350Z"
   },
   {
    "duration": 75,
    "start_time": "2024-09-01T14:49:34.373Z"
   },
   {
    "duration": 2788,
    "start_time": "2024-09-02T03:10:06.628Z"
   },
   {
    "duration": 696,
    "start_time": "2024-09-02T03:10:09.418Z"
   },
   {
    "duration": 28,
    "start_time": "2024-09-02T03:10:10.116Z"
   },
   {
    "duration": 14,
    "start_time": "2024-09-02T03:10:10.146Z"
   },
   {
    "duration": 70,
    "start_time": "2024-09-02T03:10:10.163Z"
   },
   {
    "duration": 7,
    "start_time": "2024-09-02T03:10:10.234Z"
   },
   {
    "duration": 15,
    "start_time": "2024-09-02T03:10:10.243Z"
   },
   {
    "duration": 11,
    "start_time": "2024-09-02T03:10:10.260Z"
   },
   {
    "duration": 19,
    "start_time": "2024-09-02T03:10:10.273Z"
   },
   {
    "duration": 39,
    "start_time": "2024-09-02T03:10:10.294Z"
   },
   {
    "duration": 12,
    "start_time": "2024-09-02T03:10:10.335Z"
   },
   {
    "duration": 22,
    "start_time": "2024-09-02T03:10:10.349Z"
   },
   {
    "duration": 11,
    "start_time": "2024-09-02T03:10:10.373Z"
   },
   {
    "duration": 6,
    "start_time": "2024-09-02T03:10:10.388Z"
   },
   {
    "duration": 50,
    "start_time": "2024-09-02T03:10:10.396Z"
   },
   {
    "duration": 17,
    "start_time": "2024-09-02T03:10:10.449Z"
   },
   {
    "duration": 102,
    "start_time": "2024-09-02T03:10:10.468Z"
   },
   {
    "duration": 8,
    "start_time": "2024-09-02T03:10:10.572Z"
   },
   {
    "duration": 168,
    "start_time": "2024-09-02T03:10:10.582Z"
   },
   {
    "duration": 7,
    "start_time": "2024-09-02T03:10:10.752Z"
   },
   {
    "duration": 4,
    "start_time": "2024-09-02T03:10:10.762Z"
   },
   {
    "duration": 5,
    "start_time": "2024-09-02T03:10:10.768Z"
   },
   {
    "duration": 4,
    "start_time": "2024-09-02T03:10:10.775Z"
   },
   {
    "duration": 4,
    "start_time": "2024-09-02T03:10:10.781Z"
   },
   {
    "duration": 102,
    "start_time": "2024-09-02T03:10:10.787Z"
   },
   {
    "duration": 3,
    "start_time": "2024-09-02T03:10:10.891Z"
   },
   {
    "duration": 158,
    "start_time": "2024-09-02T03:10:10.896Z"
   },
   {
    "duration": 143,
    "start_time": "2024-09-02T03:10:11.056Z"
   },
   {
    "duration": 164,
    "start_time": "2024-09-02T03:10:11.201Z"
   },
   {
    "duration": 447,
    "start_time": "2024-09-02T03:10:11.367Z"
   },
   {
    "duration": 174,
    "start_time": "2024-09-02T03:10:11.816Z"
   },
   {
    "duration": 3,
    "start_time": "2024-09-02T03:10:11.991Z"
   },
   {
    "duration": 6,
    "start_time": "2024-09-02T03:10:11.996Z"
   },
   {
    "duration": 6,
    "start_time": "2024-09-02T03:10:12.003Z"
   },
   {
    "duration": 1299138,
    "start_time": "2024-09-02T03:10:12.010Z"
   },
   {
    "duration": 4,
    "start_time": "2024-09-02T03:31:51.151Z"
   },
   {
    "duration": 275,
    "start_time": "2024-09-02T04:19:27.591Z"
   },
   {
    "duration": 39,
    "start_time": "2024-09-02T04:19:36.185Z"
   },
   {
    "duration": 39,
    "start_time": "2024-09-02T04:21:38.887Z"
   },
   {
    "duration": 2673,
    "start_time": "2024-09-02T07:39:42.876Z"
   },
   {
    "duration": 652,
    "start_time": "2024-09-02T07:39:45.551Z"
   },
   {
    "duration": 19,
    "start_time": "2024-09-02T07:39:46.205Z"
   },
   {
    "duration": 13,
    "start_time": "2024-09-02T07:39:46.227Z"
   },
   {
    "duration": 57,
    "start_time": "2024-09-02T07:39:46.241Z"
   },
   {
    "duration": 26,
    "start_time": "2024-09-02T07:39:46.299Z"
   },
   {
    "duration": 15,
    "start_time": "2024-09-02T07:39:46.328Z"
   },
   {
    "duration": 11,
    "start_time": "2024-09-02T07:39:46.345Z"
   },
   {
    "duration": 19,
    "start_time": "2024-09-02T07:39:46.357Z"
   },
   {
    "duration": 5,
    "start_time": "2024-09-02T07:39:46.379Z"
   },
   {
    "duration": 43,
    "start_time": "2024-09-02T07:39:46.386Z"
   },
   {
    "duration": 24,
    "start_time": "2024-09-02T07:39:46.431Z"
   },
   {
    "duration": 10,
    "start_time": "2024-09-02T07:39:46.456Z"
   },
   {
    "duration": 6,
    "start_time": "2024-09-02T07:39:46.468Z"
   },
   {
    "duration": 15,
    "start_time": "2024-09-02T07:39:46.476Z"
   },
   {
    "duration": 12,
    "start_time": "2024-09-02T07:39:46.529Z"
   },
   {
    "duration": 85,
    "start_time": "2024-09-02T07:39:46.801Z"
   },
   {
    "duration": 7,
    "start_time": "2024-09-02T07:39:47.006Z"
   },
   {
    "duration": 155,
    "start_time": "2024-09-02T07:39:47.809Z"
   },
   {
    "duration": 10,
    "start_time": "2024-09-02T07:39:48.119Z"
   },
   {
    "duration": 5,
    "start_time": "2024-09-02T07:39:48.561Z"
   },
   {
    "duration": 5,
    "start_time": "2024-09-02T07:39:48.907Z"
   },
   {
    "duration": 4,
    "start_time": "2024-09-02T07:39:49.514Z"
   },
   {
    "duration": 4,
    "start_time": "2024-09-02T07:39:50.794Z"
   },
   {
    "duration": 12,
    "start_time": "2024-09-02T07:39:51.483Z"
   },
   {
    "duration": 2,
    "start_time": "2024-09-02T07:39:52.049Z"
   },
   {
    "duration": 189,
    "start_time": "2024-09-02T07:39:52.255Z"
   },
   {
    "duration": 137,
    "start_time": "2024-09-02T07:39:52.823Z"
   },
   {
    "duration": 143,
    "start_time": "2024-09-02T07:39:53.612Z"
   },
   {
    "duration": 447,
    "start_time": "2024-09-02T07:39:55.761Z"
   },
   {
    "duration": 157,
    "start_time": "2024-09-02T07:39:57.013Z"
   },
   {
    "duration": 3,
    "start_time": "2024-09-02T07:39:58.789Z"
   },
   {
    "duration": 8,
    "start_time": "2024-09-02T07:40:01.007Z"
   },
   {
    "duration": 3,
    "start_time": "2024-09-02T07:40:06.505Z"
   },
   {
    "duration": 3,
    "start_time": "2024-09-02T07:40:41.720Z"
   },
   {
    "duration": 3,
    "start_time": "2024-09-02T07:40:46.340Z"
   },
   {
    "duration": 155,
    "start_time": "2024-09-02T14:06:47.948Z"
   },
   {
    "duration": 2632,
    "start_time": "2024-09-02T14:06:56.546Z"
   },
   {
    "duration": 661,
    "start_time": "2024-09-02T14:06:59.181Z"
   },
   {
    "duration": 18,
    "start_time": "2024-09-02T14:06:59.844Z"
   },
   {
    "duration": 12,
    "start_time": "2024-09-02T14:06:59.864Z"
   },
   {
    "duration": 76,
    "start_time": "2024-09-02T14:06:59.878Z"
   },
   {
    "duration": 7,
    "start_time": "2024-09-02T14:06:59.956Z"
   },
   {
    "duration": 14,
    "start_time": "2024-09-02T14:06:59.965Z"
   },
   {
    "duration": 31,
    "start_time": "2024-09-02T14:06:59.981Z"
   },
   {
    "duration": 18,
    "start_time": "2024-09-02T14:07:00.013Z"
   },
   {
    "duration": 5,
    "start_time": "2024-09-02T14:07:00.035Z"
   },
   {
    "duration": 11,
    "start_time": "2024-09-02T14:07:00.041Z"
   },
   {
    "duration": 51,
    "start_time": "2024-09-02T14:07:00.054Z"
   },
   {
    "duration": 10,
    "start_time": "2024-09-02T14:07:00.106Z"
   },
   {
    "duration": 5,
    "start_time": "2024-09-02T14:07:00.118Z"
   },
   {
    "duration": 15,
    "start_time": "2024-09-02T14:07:00.125Z"
   },
   {
    "duration": 11,
    "start_time": "2024-09-02T14:07:00.142Z"
   },
   {
    "duration": 112,
    "start_time": "2024-09-02T14:07:00.155Z"
   },
   {
    "duration": 8,
    "start_time": "2024-09-02T14:07:00.269Z"
   },
   {
    "duration": 220,
    "start_time": "2024-09-02T14:07:00.278Z"
   },
   {
    "duration": 12,
    "start_time": "2024-09-02T14:07:00.499Z"
   },
   {
    "duration": 5,
    "start_time": "2024-09-02T14:07:00.513Z"
   },
   {
    "duration": 5,
    "start_time": "2024-09-02T14:07:00.519Z"
   },
   {
    "duration": 4,
    "start_time": "2024-09-02T14:07:00.525Z"
   },
   {
    "duration": 5,
    "start_time": "2024-09-02T14:07:00.531Z"
   },
   {
    "duration": 10,
    "start_time": "2024-09-02T14:07:00.539Z"
   },
   {
    "duration": 3,
    "start_time": "2024-09-02T14:07:00.551Z"
   },
   {
    "duration": 178,
    "start_time": "2024-09-02T14:07:00.555Z"
   },
   {
    "duration": 142,
    "start_time": "2024-09-02T14:07:00.737Z"
   },
   {
    "duration": 152,
    "start_time": "2024-09-02T14:07:00.880Z"
   },
   {
    "duration": 453,
    "start_time": "2024-09-02T14:07:01.034Z"
   },
   {
    "duration": 167,
    "start_time": "2024-09-02T14:07:01.489Z"
   },
   {
    "duration": 300,
    "start_time": "2024-09-02T14:07:01.658Z"
   },
   {
    "duration": 0,
    "start_time": "2024-09-02T14:07:01.959Z"
   },
   {
    "duration": 0,
    "start_time": "2024-09-02T14:07:01.960Z"
   },
   {
    "duration": 0,
    "start_time": "2024-09-02T14:07:01.962Z"
   },
   {
    "duration": 0,
    "start_time": "2024-09-02T14:07:01.963Z"
   },
   {
    "duration": 0,
    "start_time": "2024-09-02T14:07:01.964Z"
   },
   {
    "duration": 14,
    "start_time": "2024-09-02T14:11:09.728Z"
   },
   {
    "duration": 13,
    "start_time": "2024-09-02T14:12:32.969Z"
   },
   {
    "duration": 14,
    "start_time": "2024-09-02T14:12:47.100Z"
   },
   {
    "duration": 13,
    "start_time": "2024-09-02T14:15:30.817Z"
   },
   {
    "duration": 12,
    "start_time": "2024-09-02T14:15:40.254Z"
   },
   {
    "duration": 4,
    "start_time": "2024-09-02T14:16:20.615Z"
   },
   {
    "duration": 3,
    "start_time": "2024-09-02T14:18:19.867Z"
   },
   {
    "duration": 3,
    "start_time": "2024-09-02T14:18:37.758Z"
   },
   {
    "duration": 948,
    "start_time": "2024-09-02T14:19:04.491Z"
   },
   {
    "duration": 474,
    "start_time": "2024-09-02T14:19:05.441Z"
   },
   {
    "duration": 18,
    "start_time": "2024-09-02T14:19:05.917Z"
   },
   {
    "duration": 14,
    "start_time": "2024-09-02T14:19:05.937Z"
   },
   {
    "duration": 75,
    "start_time": "2024-09-02T14:19:05.954Z"
   },
   {
    "duration": 7,
    "start_time": "2024-09-02T14:19:06.031Z"
   },
   {
    "duration": 15,
    "start_time": "2024-09-02T14:19:06.039Z"
   },
   {
    "duration": 9,
    "start_time": "2024-09-02T14:19:06.056Z"
   },
   {
    "duration": 47,
    "start_time": "2024-09-02T14:19:06.067Z"
   },
   {
    "duration": 6,
    "start_time": "2024-09-02T14:19:06.115Z"
   },
   {
    "duration": 11,
    "start_time": "2024-09-02T14:19:06.123Z"
   },
   {
    "duration": 26,
    "start_time": "2024-09-02T14:19:06.135Z"
   },
   {
    "duration": 9,
    "start_time": "2024-09-02T14:19:06.162Z"
   },
   {
    "duration": 32,
    "start_time": "2024-09-02T14:19:06.176Z"
   },
   {
    "duration": 15,
    "start_time": "2024-09-02T14:19:06.210Z"
   },
   {
    "duration": 12,
    "start_time": "2024-09-02T14:19:06.226Z"
   },
   {
    "duration": 106,
    "start_time": "2024-09-02T14:19:06.240Z"
   },
   {
    "duration": 7,
    "start_time": "2024-09-02T14:19:06.348Z"
   },
   {
    "duration": 174,
    "start_time": "2024-09-02T14:19:06.356Z"
   },
   {
    "duration": 7,
    "start_time": "2024-09-02T14:19:06.532Z"
   },
   {
    "duration": 4,
    "start_time": "2024-09-02T14:19:06.542Z"
   },
   {
    "duration": 6,
    "start_time": "2024-09-02T14:19:06.547Z"
   },
   {
    "duration": 3,
    "start_time": "2024-09-02T14:19:06.554Z"
   },
   {
    "duration": 4,
    "start_time": "2024-09-02T14:19:06.559Z"
   },
   {
    "duration": 40,
    "start_time": "2024-09-02T14:19:06.565Z"
   },
   {
    "duration": 2,
    "start_time": "2024-09-02T14:19:06.607Z"
   },
   {
    "duration": 153,
    "start_time": "2024-09-02T14:19:06.611Z"
   },
   {
    "duration": 143,
    "start_time": "2024-09-02T14:19:06.766Z"
   },
   {
    "duration": 148,
    "start_time": "2024-09-02T14:19:06.911Z"
   },
   {
    "duration": 432,
    "start_time": "2024-09-02T14:19:07.061Z"
   },
   {
    "duration": 171,
    "start_time": "2024-09-02T14:19:07.494Z"
   },
   {
    "duration": 4,
    "start_time": "2024-09-02T14:19:07.667Z"
   },
   {
    "duration": 127,
    "start_time": "2024-09-02T14:19:07.672Z"
   },
   {
    "duration": 6,
    "start_time": "2024-09-02T14:19:07.805Z"
   },
   {
    "duration": 674,
    "start_time": "2024-09-02T14:19:07.812Z"
   },
   {
    "duration": 0,
    "start_time": "2024-09-02T14:19:08.489Z"
   },
   {
    "duration": 0,
    "start_time": "2024-09-02T14:19:08.490Z"
   },
   {
    "duration": 2,
    "start_time": "2024-09-02T14:22:28.220Z"
   },
   {
    "duration": 2,
    "start_time": "2024-09-02T14:22:28.460Z"
   },
   {
    "duration": 8,
    "start_time": "2024-09-02T14:22:28.656Z"
   },
   {
    "duration": 5,
    "start_time": "2024-09-02T14:22:29.630Z"
   },
   {
    "duration": 1301055,
    "start_time": "2024-09-02T14:22:32.365Z"
   },
   {
    "duration": 2991,
    "start_time": "2024-09-02T19:27:11.537Z"
   },
   {
    "duration": 693,
    "start_time": "2024-09-02T19:27:14.530Z"
   },
   {
    "duration": 19,
    "start_time": "2024-09-02T19:27:15.226Z"
   },
   {
    "duration": 17,
    "start_time": "2024-09-02T19:27:15.247Z"
   },
   {
    "duration": 95,
    "start_time": "2024-09-02T19:27:15.267Z"
   },
   {
    "duration": 10,
    "start_time": "2024-09-02T19:27:15.364Z"
   },
   {
    "duration": 34,
    "start_time": "2024-09-02T19:27:15.376Z"
   },
   {
    "duration": 11,
    "start_time": "2024-09-02T19:27:15.412Z"
   },
   {
    "duration": 19,
    "start_time": "2024-09-02T19:27:15.426Z"
   },
   {
    "duration": 6,
    "start_time": "2024-09-02T19:27:15.448Z"
   },
   {
    "duration": 13,
    "start_time": "2024-09-02T19:27:15.456Z"
   },
   {
    "duration": 50,
    "start_time": "2024-09-02T19:27:15.470Z"
   },
   {
    "duration": 12,
    "start_time": "2024-09-02T19:27:15.522Z"
   },
   {
    "duration": 6,
    "start_time": "2024-09-02T19:27:15.536Z"
   },
   {
    "duration": 15,
    "start_time": "2024-09-02T19:27:15.543Z"
   },
   {
    "duration": 14,
    "start_time": "2024-09-02T19:27:15.560Z"
   },
   {
    "duration": 115,
    "start_time": "2024-09-02T19:27:15.576Z"
   },
   {
    "duration": 16,
    "start_time": "2024-09-02T19:27:15.693Z"
   },
   {
    "duration": 240,
    "start_time": "2024-09-02T19:27:15.711Z"
   },
   {
    "duration": 9,
    "start_time": "2024-09-02T19:27:15.952Z"
   },
   {
    "duration": 6,
    "start_time": "2024-09-02T19:27:15.962Z"
   },
   {
    "duration": 4,
    "start_time": "2024-09-02T19:27:15.970Z"
   },
   {
    "duration": 4,
    "start_time": "2024-09-02T19:27:15.976Z"
   },
   {
    "duration": 30,
    "start_time": "2024-09-02T19:27:15.982Z"
   },
   {
    "duration": 13,
    "start_time": "2024-09-02T19:27:16.016Z"
   },
   {
    "duration": 4,
    "start_time": "2024-09-02T19:27:16.030Z"
   },
   {
    "duration": 157,
    "start_time": "2024-09-02T19:27:16.036Z"
   },
   {
    "duration": 165,
    "start_time": "2024-09-02T19:27:16.197Z"
   },
   {
    "duration": 161,
    "start_time": "2024-09-02T19:27:16.364Z"
   },
   {
    "duration": 483,
    "start_time": "2024-09-02T19:27:16.527Z"
   },
   {
    "duration": 173,
    "start_time": "2024-09-02T19:27:17.012Z"
   },
   {
    "duration": 8,
    "start_time": "2024-09-02T19:27:17.201Z"
   },
   {
    "duration": 3,
    "start_time": "2024-09-02T19:27:17.211Z"
   },
   {
    "duration": 11,
    "start_time": "2024-09-02T19:27:17.215Z"
   },
   {
    "duration": 9,
    "start_time": "2024-09-02T19:27:17.228Z"
   },
   {
    "duration": 350143,
    "start_time": "2024-09-02T19:27:17.240Z"
   },
   {
    "duration": 0,
    "start_time": "2024-09-02T19:33:07.385Z"
   },
   {
    "duration": 0,
    "start_time": "2024-09-02T19:33:07.387Z"
   },
   {
    "duration": 0,
    "start_time": "2024-09-02T19:33:07.388Z"
   },
   {
    "duration": 4,
    "start_time": "2024-09-02T19:33:11.100Z"
   },
   {
    "duration": 5,
    "start_time": "2024-09-02T19:41:58.048Z"
   },
   {
    "duration": 3,
    "start_time": "2024-09-02T19:41:58.700Z"
   },
   {
    "duration": 10,
    "start_time": "2024-09-02T19:42:03.721Z"
   },
   {
    "duration": 5,
    "start_time": "2024-09-02T19:42:04.561Z"
   },
   {
    "duration": 1762457,
    "start_time": "2024-09-02T19:42:06.291Z"
   },
   {
    "duration": 2753,
    "start_time": "2024-09-02T21:30:57.954Z"
   },
   {
    "duration": 645,
    "start_time": "2024-09-02T21:31:00.710Z"
   },
   {
    "duration": 18,
    "start_time": "2024-09-02T21:31:01.357Z"
   },
   {
    "duration": 12,
    "start_time": "2024-09-02T21:31:01.387Z"
   },
   {
    "duration": 68,
    "start_time": "2024-09-02T21:31:01.401Z"
   },
   {
    "duration": 19,
    "start_time": "2024-09-02T21:31:01.472Z"
   },
   {
    "duration": 18,
    "start_time": "2024-09-02T21:31:01.493Z"
   },
   {
    "duration": 10,
    "start_time": "2024-09-02T21:31:01.513Z"
   },
   {
    "duration": 19,
    "start_time": "2024-09-02T21:31:01.525Z"
   },
   {
    "duration": 5,
    "start_time": "2024-09-02T21:31:01.548Z"
   },
   {
    "duration": 11,
    "start_time": "2024-09-02T21:31:01.587Z"
   },
   {
    "duration": 28,
    "start_time": "2024-09-02T21:31:01.600Z"
   },
   {
    "duration": 11,
    "start_time": "2024-09-02T21:31:01.629Z"
   },
   {
    "duration": 6,
    "start_time": "2024-09-02T21:31:01.642Z"
   },
   {
    "duration": 43,
    "start_time": "2024-09-02T21:31:01.650Z"
   },
   {
    "duration": 12,
    "start_time": "2024-09-02T21:31:01.695Z"
   },
   {
    "duration": 110,
    "start_time": "2024-09-02T21:31:01.709Z"
   },
   {
    "duration": 7,
    "start_time": "2024-09-02T21:31:01.820Z"
   },
   {
    "duration": 207,
    "start_time": "2024-09-02T21:31:01.828Z"
   },
   {
    "duration": 7,
    "start_time": "2024-09-02T21:31:02.037Z"
   },
   {
    "duration": 4,
    "start_time": "2024-09-02T21:31:02.045Z"
   },
   {
    "duration": 5,
    "start_time": "2024-09-02T21:31:02.051Z"
   },
   {
    "duration": 30,
    "start_time": "2024-09-02T21:31:02.058Z"
   },
   {
    "duration": 4,
    "start_time": "2024-09-02T21:31:02.090Z"
   },
   {
    "duration": 10,
    "start_time": "2024-09-02T21:31:02.096Z"
   },
   {
    "duration": 3,
    "start_time": "2024-09-02T21:31:02.108Z"
   },
   {
    "duration": 164,
    "start_time": "2024-09-02T21:31:02.112Z"
   },
   {
    "duration": 141,
    "start_time": "2024-09-02T21:31:02.279Z"
   },
   {
    "duration": 151,
    "start_time": "2024-09-02T21:31:02.421Z"
   },
   {
    "duration": 441,
    "start_time": "2024-09-02T21:31:02.574Z"
   },
   {
    "duration": 177,
    "start_time": "2024-09-02T21:31:03.018Z"
   },
   {
    "duration": 3,
    "start_time": "2024-09-02T21:31:04.167Z"
   },
   {
    "duration": 3,
    "start_time": "2024-09-02T21:31:04.312Z"
   },
   {
    "duration": 2,
    "start_time": "2024-09-02T21:31:04.479Z"
   },
   {
    "duration": 8,
    "start_time": "2024-09-02T21:31:05.073Z"
   },
   {
    "duration": 5,
    "start_time": "2024-09-02T21:31:05.393Z"
   },
   {
    "duration": 243870,
    "start_time": "2024-09-02T21:31:18.407Z"
   },
   {
    "duration": 26,
    "start_time": "2024-09-02T21:36:06.486Z"
   },
   {
    "duration": 4,
    "start_time": "2024-09-02T21:36:07.914Z"
   }
  ],
  "kernelspec": {
   "display_name": "Python 3 (ipykernel)",
   "language": "python",
   "name": "python3"
  },
  "language_info": {
   "codemirror_mode": {
    "name": "ipython",
    "version": 3
   },
   "file_extension": ".py",
   "mimetype": "text/x-python",
   "name": "python",
   "nbconvert_exporter": "python",
   "pygments_lexer": "ipython3",
   "version": "3.9.19"
  },
  "toc": {
   "base_numbering": 1,
   "nav_menu": {},
   "number_sections": true,
   "sideBar": true,
   "skip_h1_title": true,
   "title_cell": "Table of Contents",
   "title_sidebar": "Contents",
   "toc_cell": false,
   "toc_position": {},
   "toc_section_display": true,
   "toc_window_display": false
  }
 },
 "nbformat": 4,
 "nbformat_minor": 2
}
